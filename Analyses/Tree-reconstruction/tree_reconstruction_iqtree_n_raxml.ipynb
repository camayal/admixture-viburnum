{
 "cells": [
  {
   "attachments": {},
   "cell_type": "markdown",
   "metadata": {},
   "source": [
    "# Tree reconstruction \n",
    "\n",
    "In this notebook is detailed how we produced the trees in IQtree and a validation with RAxML. \n",
    "\n",
    "Here we used two datasets with different assembly methods (denovo:hartout_outfiles, ref:hartout_parent_outfiles)"
   ]
  },
  {
   "cell_type": "markdown",
   "metadata": {},
   "source": [
    "## Load modules"
   ]
  },
  {
   "cell_type": "code",
   "execution_count": 2,
   "metadata": {},
   "outputs": [
    {
     "data": {
      "text/plain": [
       "'0.9.84'"
      ]
     },
     "execution_count": 2,
     "metadata": {},
     "output_type": "execute_result"
    }
   ],
   "source": [
    "import toytree\n",
    "import pandas as pd\n",
    "import ipyrad.analysis as ipa\n",
    "ipa.__version__"
   ]
  },
  {
   "attachments": {},
   "cell_type": "markdown",
   "metadata": {},
   "source": [
    "## Set misc. info"
   ]
  },
  {
   "cell_type": "code",
   "execution_count": 22,
   "metadata": {},
   "outputs": [],
   "source": [
    "#Name dic\n",
    "new_names = {\n",
    "            #names for reference\n",
    "            \"MKM_16\":  \"V._jucundum_MKM_16_Huitepec\",\n",
    "            \"MKM_13\": \"V._jucundum_MKM_13_Huitepec\",\n",
    "            \"MKM_20\": \"V._jucundum_MKM_20_Huitepec\",\n",
    "            \"MKM_15\": \"V._jucundum_MKM_15_Huitepec\",\n",
    "            \"MKM_14\": \"V._jucundum_MKM_14_Huitepec\",\n",
    "            \"MKM_12\": \"V._jucundum_MKM_12_Huitepec\",\n",
    "            \"MKM_18\": \"V._jucundum_MKM_18_Huitepec\",\n",
    "            \"MKM_11\": \"V._jucundum_MKM_11_Yalentay\",\n",
    "            \"PWS3193_hartwegii\": \"V._hartwegii_PWS_3193\",\n",
    "            \"PWS3186_hartwegii\": \"V._hartwegii_PWS_3186\",\n",
    "            \"PWS3190_hartwegii\": \"V._hartwegii_PWS_3190\",\n",
    "            \"MKM_24\": \"V._lautum_MKM_24_Moxviqil\",\n",
    "            \"MKM_23\": \"V._lautum_MKM_23_Moxviqil\",\n",
    "            \"MKM_25\": \"V._lautum_MKM_25_Moxviqil\",\n",
    "            \"MKM_26\": \"V._lautum_MKM_26_Moxviqil\",\n",
    "            \"MKM_3\": \"V._lautum_MKM_3_Teopisca\",\n",
    "            \"MKM_2\": \"V._lautum_MKM_2_Teopisca\",\n",
    "            \"MKM_9\": \"V._lautum_MKM_9_Teopisca\",\n",
    "            \"MKM_1\": \"V._lautum_MKM_1_Teopisca\",\n",
    "            \"reference\": \"V._lautum_reference_Teopisca\",\n",
    "             \"MKM_17\": \"V._jucundum_MKM_17_Huitepec\",\n",
    "             ## Here are the names for denovo\n",
    "            \"b_MKM16_huit_\":  \"V._jucundum_MKM_16_Huitepec\",\n",
    "            \"b_MKM13_huit_\": \"V._jucundum_MKM_13_Huitepec\",\n",
    "            \"b_MKM20_huit_\": \"V._jucundum_MKM_20_Huitepec\",\n",
    "            \"b_MKM15_huit_\": \"V._jucundum_MKM_15_Huitepec\",\n",
    "            \"b_MKM14_huit_\": \"V._jucundum_MKM_14_Huitepec\",\n",
    "            \"b_MKM12_huit_\": \"V._jucundum_MKM_12_Huitepec\",\n",
    "            \"b_MKM18_huit_\": \"V._jucundum_MKM_18_Huitepec\",\n",
    "            \"b_MKM11_yale_\": \"V._jucundum_MKM_11_Yalentay\",\n",
    "            \"b_PWS3193_hart_\": \"V._hartwegii_PWS_3193\",\n",
    "            \"b_PWS3186_hart_\": \"V._hartwegii_PWS_3186\",\n",
    "            \"b_PWS3190_hart_\": \"V._hartwegii_PWS_3190\",\n",
    "            \"b_MKM24_moxv_\": \"V._lautum_MKM_24_Moxviqil\",\n",
    "            \"b_MKM23_moxv_\": \"V._lautum_MKM_23_Moxviqil\",\n",
    "            \"b_MKM25_moxv_\": \"V._lautum_MKM_25_Moxviqil\",\n",
    "            \"b_MKM26_moxv_\": \"V._lautum_MKM_26_Moxviqil\",\n",
    "            \"b_MKM03_teop_\": \"V._lautum_MKM_3_Teopisca\",\n",
    "            \"b_MKM02_teop_\": \"V._lautum_MKM_2_Teopisca\",\n",
    "            \"b_MKM09_teop_\": \"V._lautum_MKM_9_Teopisca\",\n",
    "            \"b_MKM01_teop_\": \"V._lautum_MKM_1_Teopisca\",\n",
    "             \"b_MKM17_huit_\": \"V._jucundum_MKM_17_Huitepec\",\n",
    "            }"
   ]
  },
  {
   "attachments": {},
   "cell_type": "markdown",
   "metadata": {},
   "source": [
    "## Reconstructions for the Reference guided assembly (hartout_parent_outfiles)"
   ]
  },
  {
   "cell_type": "markdown",
   "metadata": {},
   "source": [
    "### Load sequences"
   ]
  },
  {
   "cell_type": "code",
   "execution_count": 3,
   "metadata": {},
   "outputs": [],
   "source": [
    "SEQS = \"./data/hartout_parent.seqs.hdf5\""
   ]
  },
  {
   "cell_type": "markdown",
   "metadata": {},
   "source": [
    "### Check scaffolds lengths"
   ]
  },
  {
   "cell_type": "code",
   "execution_count": 4,
   "metadata": {},
   "outputs": [
    {
     "data": {
      "text/html": [
       "<div>\n",
       "<style scoped>\n",
       "    .dataframe tbody tr th:only-of-type {\n",
       "        vertical-align: middle;\n",
       "    }\n",
       "\n",
       "    .dataframe tbody tr th {\n",
       "        vertical-align: top;\n",
       "    }\n",
       "\n",
       "    .dataframe thead th {\n",
       "        text-align: right;\n",
       "    }\n",
       "</style>\n",
       "<table border=\"1\" class=\"dataframe\">\n",
       "  <thead>\n",
       "    <tr style=\"text-align: right;\">\n",
       "      <th></th>\n",
       "      <th>scaffold_name</th>\n",
       "      <th>scaffold_length</th>\n",
       "    </tr>\n",
       "  </thead>\n",
       "  <tbody>\n",
       "    <tr>\n",
       "      <th>3588</th>\n",
       "      <td>Scaffold_3589;HRSCAF=4012</td>\n",
       "      <td>47665733</td>\n",
       "    </tr>\n",
       "    <tr>\n",
       "      <th>28086</th>\n",
       "      <td>Scaffold_28087;HRSCAF=31587</td>\n",
       "      <td>44977913</td>\n",
       "    </tr>\n",
       "    <tr>\n",
       "      <th>17364</th>\n",
       "      <td>Scaffold_17365;HRSCAF=19499</td>\n",
       "      <td>36021024</td>\n",
       "    </tr>\n",
       "    <tr>\n",
       "      <th>62490</th>\n",
       "      <td>Scaffold_62491;HRSCAF=74262</td>\n",
       "      <td>28015097</td>\n",
       "    </tr>\n",
       "    <tr>\n",
       "      <th>61137</th>\n",
       "      <td>Scaffold_61138;HRSCAF=69458</td>\n",
       "      <td>27022671</td>\n",
       "    </tr>\n",
       "    <tr>\n",
       "      <th>...</th>\n",
       "      <td>...</td>\n",
       "      <td>...</td>\n",
       "    </tr>\n",
       "    <tr>\n",
       "      <th>56530</th>\n",
       "      <td>Scaffold_56531;HRSCAF=63672</td>\n",
       "      <td>1000</td>\n",
       "    </tr>\n",
       "    <tr>\n",
       "      <th>47705</th>\n",
       "      <td>Scaffold_47706;HRSCAF=53707</td>\n",
       "      <td>1000</td>\n",
       "    </tr>\n",
       "    <tr>\n",
       "      <th>2963</th>\n",
       "      <td>Scaffold_2964;HRSCAF=3308</td>\n",
       "      <td>1000</td>\n",
       "    </tr>\n",
       "    <tr>\n",
       "      <th>28804</th>\n",
       "      <td>Scaffold_28805;HRSCAF=32399</td>\n",
       "      <td>1000</td>\n",
       "    </tr>\n",
       "    <tr>\n",
       "      <th>21783</th>\n",
       "      <td>Scaffold_21784;HRSCAF=24460</td>\n",
       "      <td>1000</td>\n",
       "    </tr>\n",
       "  </tbody>\n",
       "</table>\n",
       "<p>63580 rows × 2 columns</p>\n",
       "</div>"
      ],
      "text/plain": [
       "                     scaffold_name  scaffold_length\n",
       "3588     Scaffold_3589;HRSCAF=4012         47665733\n",
       "28086  Scaffold_28087;HRSCAF=31587         44977913\n",
       "17364  Scaffold_17365;HRSCAF=19499         36021024\n",
       "62490  Scaffold_62491;HRSCAF=74262         28015097\n",
       "61137  Scaffold_61138;HRSCAF=69458         27022671\n",
       "...                            ...              ...\n",
       "56530  Scaffold_56531;HRSCAF=63672             1000\n",
       "47705  Scaffold_47706;HRSCAF=53707             1000\n",
       "2963     Scaffold_2964;HRSCAF=3308             1000\n",
       "28804  Scaffold_28805;HRSCAF=32399             1000\n",
       "21783  Scaffold_21784;HRSCAF=24460             1000\n",
       "\n",
       "[63580 rows x 2 columns]"
      ]
     },
     "metadata": {},
     "output_type": "display_data"
    },
    {
     "name": "stdout",
     "output_type": "stream",
     "text": [
      "3090490430\n",
      "63580\n"
     ]
    }
   ],
   "source": [
    "# get scaffolds sorted by length and select ALL of them\n",
    "scaffs = ipa.window_extracter(SEQS)\n",
    "scaff_table = scaffs.scaffold_table.sort_values(by=\"scaffold_length\", ascending=False)\n",
    "display (scaff_table)\n",
    "scaff_toUse = scaff_table.index.tolist() ####ALL SCAFFOLDS \n",
    "# print (scaff_toUse)\n",
    "print(scaff_table.scaffold_length.sum())\n",
    "print(len(scaff_toUse))"
   ]
  },
  {
   "cell_type": "markdown",
   "metadata": {},
   "source": [
    "### Window extractor to generate phy file\n",
    "Using in this case only the biggest scaffold"
   ]
  },
  {
   "cell_type": "code",
   "execution_count": 5,
   "metadata": {},
   "outputs": [
    {
     "name": "stdout",
     "output_type": "stream",
     "text": [
      "1-admixture-denovo\n"
     ]
    }
   ],
   "source": [
    "#set parameters\n",
    "mincov = 0.25 #default was 0.25\n",
    "rmincov = 0.1 #default was 0.1\n",
    "NAME = f\"1-admixture-ref\"\n",
    "print(NAME)"
   ]
  },
  {
   "cell_type": "code",
   "execution_count": 6,
   "metadata": {},
   "outputs": [],
   "source": [
    "#execute window extractor\n",
    "wex = ipa.window_extracter(\n",
    "    data=SEQS,\n",
    "    scaffold_idxs=scaff_toUse,\n",
    "    mincov=mincov, \n",
    "    rmincov=rmincov,\n",
    "    name=NAME,\n",
    "    # imap=IMAP,\n",
    ")"
   ]
  },
  {
   "cell_type": "code",
   "execution_count": null,
   "metadata": {},
   "outputs": [],
   "source": [
    "#run it\n",
    "wex.run()"
   ]
  },
  {
   "cell_type": "code",
   "execution_count": 8,
   "metadata": {},
   "outputs": [
    {
     "data": {
      "text/html": [
       "<div>\n",
       "<style scoped>\n",
       "    .dataframe tbody tr th:only-of-type {\n",
       "        vertical-align: middle;\n",
       "    }\n",
       "\n",
       "    .dataframe tbody tr th {\n",
       "        vertical-align: top;\n",
       "    }\n",
       "\n",
       "    .dataframe thead th {\n",
       "        text-align: right;\n",
       "    }\n",
       "</style>\n",
       "<table border=\"1\" class=\"dataframe\">\n",
       "  <thead>\n",
       "    <tr style=\"text-align: right;\">\n",
       "      <th></th>\n",
       "      <th>scaffold</th>\n",
       "      <th>start</th>\n",
       "      <th>end</th>\n",
       "      <th>sites</th>\n",
       "      <th>snps</th>\n",
       "      <th>missing</th>\n",
       "      <th>samples</th>\n",
       "    </tr>\n",
       "  </thead>\n",
       "  <tbody>\n",
       "    <tr>\n",
       "      <th>0</th>\n",
       "      <td>concatenated</td>\n",
       "      <td>0</td>\n",
       "      <td>12045893</td>\n",
       "      <td>12045893</td>\n",
       "      <td>136677</td>\n",
       "      <td>0.603</td>\n",
       "      <td>21</td>\n",
       "    </tr>\n",
       "  </tbody>\n",
       "</table>\n",
       "</div>"
      ],
      "text/plain": [
       "       scaffold  start       end     sites    snps  missing  samples\n",
       "0  concatenated      0  12045893  12045893  136677    0.603       21"
      ]
     },
     "execution_count": 8,
     "metadata": {},
     "output_type": "execute_result"
    }
   ],
   "source": [
    "#check stats\n",
    "wex.stats"
   ]
  },
  {
   "cell_type": "code",
   "execution_count": 9,
   "metadata": {},
   "outputs": [
    {
     "data": {
      "text/html": [
       "<div>\n",
       "<style scoped>\n",
       "    .dataframe tbody tr th:only-of-type {\n",
       "        vertical-align: middle;\n",
       "    }\n",
       "\n",
       "    .dataframe tbody tr th {\n",
       "        vertical-align: top;\n",
       "    }\n",
       "\n",
       "    .dataframe thead th {\n",
       "        text-align: right;\n",
       "    }\n",
       "</style>\n",
       "<table border=\"1\" class=\"dataframe\">\n",
       "  <thead>\n",
       "    <tr style=\"text-align: right;\">\n",
       "      <th></th>\n",
       "      <th>start</th>\n",
       "      <th>end</th>\n",
       "      <th>sites</th>\n",
       "      <th>snps</th>\n",
       "      <th>missing</th>\n",
       "      <th>samples</th>\n",
       "    </tr>\n",
       "  </thead>\n",
       "  <tbody>\n",
       "    <tr>\n",
       "      <th>count</th>\n",
       "      <td>1.0</td>\n",
       "      <td>1.000e+00</td>\n",
       "      <td>1.000e+00</td>\n",
       "      <td>1.0</td>\n",
       "      <td>1.000</td>\n",
       "      <td>1.0</td>\n",
       "    </tr>\n",
       "    <tr>\n",
       "      <th>mean</th>\n",
       "      <td>0.0</td>\n",
       "      <td>1.205e+07</td>\n",
       "      <td>1.205e+07</td>\n",
       "      <td>136677.0</td>\n",
       "      <td>0.603</td>\n",
       "      <td>21.0</td>\n",
       "    </tr>\n",
       "    <tr>\n",
       "      <th>std</th>\n",
       "      <td>NaN</td>\n",
       "      <td>NaN</td>\n",
       "      <td>NaN</td>\n",
       "      <td>NaN</td>\n",
       "      <td>NaN</td>\n",
       "      <td>NaN</td>\n",
       "    </tr>\n",
       "    <tr>\n",
       "      <th>min</th>\n",
       "      <td>0.0</td>\n",
       "      <td>1.205e+07</td>\n",
       "      <td>1.205e+07</td>\n",
       "      <td>136677.0</td>\n",
       "      <td>0.603</td>\n",
       "      <td>21.0</td>\n",
       "    </tr>\n",
       "    <tr>\n",
       "      <th>25%</th>\n",
       "      <td>0.0</td>\n",
       "      <td>1.205e+07</td>\n",
       "      <td>1.205e+07</td>\n",
       "      <td>136677.0</td>\n",
       "      <td>0.603</td>\n",
       "      <td>21.0</td>\n",
       "    </tr>\n",
       "    <tr>\n",
       "      <th>50%</th>\n",
       "      <td>0.0</td>\n",
       "      <td>1.205e+07</td>\n",
       "      <td>1.205e+07</td>\n",
       "      <td>136677.0</td>\n",
       "      <td>0.603</td>\n",
       "      <td>21.0</td>\n",
       "    </tr>\n",
       "    <tr>\n",
       "      <th>75%</th>\n",
       "      <td>0.0</td>\n",
       "      <td>1.205e+07</td>\n",
       "      <td>1.205e+07</td>\n",
       "      <td>136677.0</td>\n",
       "      <td>0.603</td>\n",
       "      <td>21.0</td>\n",
       "    </tr>\n",
       "    <tr>\n",
       "      <th>max</th>\n",
       "      <td>0.0</td>\n",
       "      <td>1.205e+07</td>\n",
       "      <td>1.205e+07</td>\n",
       "      <td>136677.0</td>\n",
       "      <td>0.603</td>\n",
       "      <td>21.0</td>\n",
       "    </tr>\n",
       "  </tbody>\n",
       "</table>\n",
       "</div>"
      ],
      "text/plain": [
       "       start        end      sites      snps  missing  samples\n",
       "count    1.0  1.000e+00  1.000e+00       1.0    1.000      1.0\n",
       "mean     0.0  1.205e+07  1.205e+07  136677.0    0.603     21.0\n",
       "std      NaN        NaN        NaN       NaN      NaN      NaN\n",
       "min      0.0  1.205e+07  1.205e+07  136677.0    0.603     21.0\n",
       "25%      0.0  1.205e+07  1.205e+07  136677.0    0.603     21.0\n",
       "50%      0.0  1.205e+07  1.205e+07  136677.0    0.603     21.0\n",
       "75%      0.0  1.205e+07  1.205e+07  136677.0    0.603     21.0\n",
       "max      0.0  1.205e+07  1.205e+07  136677.0    0.603     21.0"
      ]
     },
     "execution_count": 9,
     "metadata": {},
     "output_type": "execute_result"
    }
   ],
   "source": [
    "wex.stats.describe()"
   ]
  },
  {
   "attachments": {},
   "cell_type": "markdown",
   "metadata": {},
   "source": [
    "### Run IQtree"
   ]
  },
  {
   "cell_type": "markdown",
   "metadata": {},
   "source": [
    "#### Run"
   ]
  },
  {
   "cell_type": "code",
   "execution_count": null,
   "metadata": {},
   "outputs": [],
   "source": [
    "!iqtree -s ./analysis-window_extracter/1-admixture-ref.phy \\\n",
    "-alrt 1000 \\\n",
    "-bb 1000 \\\n",
    "-nt 4 \\\n",
    "-pre 1-admixture-ref-IQtree \\\n",
    "-m TEST \\\n",
    "-T 36"
   ]
  },
  {
   "cell_type": "markdown",
   "metadata": {},
   "source": [
    "#### Print tree"
   ]
  },
  {
   "cell_type": "code",
   "execution_count": 1,
   "metadata": {},
   "outputs": [],
   "source": [
    "#create analysis-iqtree/ folder\n",
    "!mkdir -p analysis-iqtree"
   ]
  },
  {
   "cell_type": "code",
   "execution_count": null,
   "metadata": {},
   "outputs": [],
   "source": [
    "#move all results to the folder analysis-iqtree and bkp the tree\n",
    "!mv 1-admixture-ref* analysis-iqtree/.\n",
    "!cp ./analysis-iqtree/1-admixture-ref-IQtree.treefile \\\n",
    "./analysis-iqtree/1-admixture-ref-IQtree.treefile.bkp"
   ]
  },
  {
   "cell_type": "code",
   "execution_count": 4,
   "metadata": {},
   "outputs": [],
   "source": [
    "# Separate support values in different trees, in this run I ask for SH-aLRT support (%) / ultrafast bootstrap support (%).\n",
    "!sed -e 's/\\/[0-9.]*//g' \"./analysis-iqtree/1-admixture-ref-IQtree.treefile.bkp\" > \"./analysis-iqtree/1-admixture-ref-IQtree.treefile.sh-alrt\"\n",
    "!sed -e 's/[0-9.]*\\///g' \"./analysis-iqtree/1-admixture-ref-IQtree.treefile.bkp\" > \"./analysis-iqtree/1-admixture-ref-IQtree.ultrafastbootstrap\""
   ]
  },
  {
   "cell_type": "code",
   "execution_count": 46,
   "metadata": {},
   "outputs": [],
   "source": [
    "import toytree\n",
    "treeFile = \"./analysis-iqtree/1-admixture-ref-IQtree.treefile.sh-alrt\"\n",
    "tre = toytree.tree(treeFile)"
   ]
  },
  {
   "cell_type": "code",
   "execution_count": 47,
   "metadata": {},
   "outputs": [
    {
     "data": {
      "text/html": [
       "<div class=\"toyplot\" id=\"tef8de705486140d88ae726520a8894e9\" style=\"text-align:center\"><svg class=\"toyplot-canvas-Canvas\" xmlns:toyplot=\"http://www.sandia.gov/toyplot\" xmlns:xlink=\"http://www.w3.org/1999/xlink\" xmlns=\"http://www.w3.org/2000/svg\" width=\"500.0px\" height=\"500.0px\" viewBox=\"0 0 500.0 500.0\" preserveAspectRatio=\"xMidYMid meet\" style=\"background-color:transparent;border-color:#292724;border-style:none;border-width:1.0;fill:rgb(16.1%,15.3%,14.1%);fill-opacity:1.0;font-family:Helvetica;font-size:12px;opacity:1.0;stroke:rgb(16.1%,15.3%,14.1%);stroke-opacity:1.0;stroke-width:1.0\" id=\"t8d8a0dc92dac49c3bc2aca955c0e2886\"><g class=\"toyplot-coordinates-Cartesian\" id=\"t28f7e17653864434bf51df0bed444a7a\"><clipPath id=\"t815f8aece0f24c78a3afd0aaa9360cf9\"><rect x=\"30.0\" y=\"30.0\" width=\"440.0\" height=\"440.0\"></rect></clipPath><g clip-path=\"url(#t815f8aece0f24c78a3afd0aaa9360cf9)\"><g class=\"toytree-mark-Toytree\" id=\"ta0b7749362f640d4ae9085af4512166c\"><g class=\"toytree-Edges\" style=\"fill:none;stroke:rgb(14.9%,14.9%,14.9%);stroke-linecap:round;stroke-opacity:1;stroke-width:2\"><path d=\"M 51.2 165.2 L 51.2 76.0 L 109.6 76.0\" id=\"40,39\"></path><path d=\"M 51.2 165.2 L 51.2 254.4 L 109.6 254.4\" id=\"40,38\"></path><path d=\"M 109.6 76.0 L 109.6 90.1 L 126.5 90.1\" id=\"39,37\"></path><path d=\"M 109.6 254.4 L 109.6 163.6 L 143.5 163.6\" id=\"38,36\"></path><path d=\"M 109.6 254.4 L 109.6 345.2 L 126.2 345.2\" id=\"38,35\"></path><path d=\"M 143.5 163.6 L 143.5 127.7 L 156.2 127.7\" id=\"36,34\"></path><path d=\"M 143.5 163.6 L 143.5 199.4 L 155.1 199.4\" id=\"36,33\"></path><path d=\"M 126.2 345.2 L 126.2 304.1 L 153.3 304.1\" id=\"35,32\"></path><path d=\"M 126.2 345.2 L 126.2 386.4 L 149.1 386.4\" id=\"35,31\"></path><path d=\"M 155.1 199.4 L 155.1 170.0 L 166.6 170.0\" id=\"33,30\"></path><path d=\"M 155.1 199.4 L 155.1 228.8 L 163.9 228.8\" id=\"33,29\"></path><path d=\"M 153.3 304.1 L 153.3 320.6 L 168.0 320.6\" id=\"32,28\"></path><path d=\"M 149.1 386.4 L 149.1 409.9 L 163.0 409.9\" id=\"31,27\"></path><path d=\"M 166.6 170.0 L 166.6 184.1 L 182.1 184.1\" id=\"30,26\"></path><path d=\"M 163.9 228.8 L 163.9 245.3 L 174.8 245.3\" id=\"29,25\"></path><path d=\"M 168.0 320.6 L 168.0 334.7 L 178.5 334.7\" id=\"28,24\"></path><path d=\"M 163.0 409.9 L 163.0 391.1 L 173.2 391.1\" id=\"27,23\"></path><path d=\"M 163.0 409.9 L 163.0 428.7 L 176.5 428.7\" id=\"27,22\"></path><path d=\"M 174.8 245.3 L 174.8 259.4 L 186.7 259.4\" id=\"25,21\"></path><path d=\"M 109.6 76.0 L 109.6 61.9 L 167.4 61.9\" id=\"39,20\"></path><path d=\"M 126.5 90.1 L 126.5 80.7 L 173.4 80.7\" id=\"37,19\"></path><path d=\"M 126.5 90.1 L 126.5 99.5 L 198.9 99.5\" id=\"37,18\"></path><path d=\"M 156.2 127.7 L 156.2 118.3 L 221.8 118.3\" id=\"34,17\"></path><path d=\"M 156.2 127.7 L 156.2 137.1 L 221.8 137.1\" id=\"34,16\"></path><path d=\"M 166.6 170.0 L 166.6 155.9 L 208.6 155.9\" id=\"30,15\"></path><path d=\"M 182.1 184.1 L 182.1 174.7 L 259.3 174.7\" id=\"26,14\"></path><path d=\"M 182.1 184.1 L 182.1 193.6 L 248.0 193.6\" id=\"26,13\"></path><path d=\"M 163.9 228.8 L 163.9 212.4 L 193.4 212.4\" id=\"29,12\"></path><path d=\"M 174.8 245.3 L 174.8 231.2 L 260.8 231.2\" id=\"25,11\"></path><path d=\"M 186.7 259.4 L 186.7 250.0 L 255.1 250.0\" id=\"21,10\"></path><path d=\"M 186.7 259.4 L 186.7 268.8 L 268.0 268.8\" id=\"21,9\"></path><path d=\"M 153.3 304.1 L 153.3 287.6 L 243.7 287.6\" id=\"32,8\"></path><path d=\"M 168.0 320.6 L 168.0 306.4 L 261.1 306.4\" id=\"28,7\"></path><path d=\"M 178.5 334.7 L 178.5 325.3 L 265.5 325.3\" id=\"24,6\"></path><path d=\"M 178.5 334.7 L 178.5 344.1 L 241.7 344.1\" id=\"24,5\"></path><path d=\"M 149.1 386.4 L 149.1 362.9 L 281.8 362.9\" id=\"31,4\"></path><path d=\"M 173.2 391.1 L 173.2 381.7 L 217.6 381.7\" id=\"23,3\"></path><path d=\"M 173.2 391.1 L 173.2 400.5 L 267.4 400.5\" id=\"23,2\"></path><path d=\"M 176.5 428.7 L 176.5 419.3 L 237.9 419.3\" id=\"22,1\"></path><path d=\"M 176.5 428.7 L 176.5 438.1 L 261.9 438.1\" id=\"22,0\"></path></g><g class=\"toytree-NodeLabels\" style=\"fill:rgb(0%,0%,0%);fill-opacity:1.0;font-size:8;stroke:none;text-shadow:0.5px 0.5px #fff, -0.5px 0.5px #fff, 0.5px -0.5px #fff, -0.5px -0.5px #fff\"><g transform=\"translate(190.92,261.45)\"><text>99.8</text></g><g transform=\"translate(178.52,430.78)\"><text>100.0</text></g><g transform=\"translate(177.41,393.15)\"><text>87.8</text></g><g transform=\"translate(182.75,336.71)\"><text>90.1</text></g><g transform=\"translate(176.78,247.34)\"><text>100.0</text></g><g transform=\"translate(186.32,186.19)\"><text>98.5</text></g><g transform=\"translate(165.02,411.97)\"><text>100.0</text></g><g transform=\"translate(170.00,322.60)\"><text>100.0</text></g><g transform=\"translate(168.14,230.88)\"><text>68.1</text></g><g transform=\"translate(168.58,172.08)\"><text>100.0</text></g><g transform=\"translate(151.07,388.45)\"><text>100.0</text></g><g transform=\"translate(155.26,306.14)\"><text>100.0</text></g><g transform=\"translate(157.05,201.48)\"><text>100.0</text></g><g transform=\"translate(158.17,129.75)\"><text>100.0</text></g><g transform=\"translate(128.19,347.29)\"><text>100.0</text></g><g transform=\"translate(145.46,165.61)\"><text>100.0</text></g><g transform=\"translate(128.52,92.12)\"><text>100.0</text></g><g transform=\"translate(111.57,256.45)\"><text>100.0</text></g><g transform=\"translate(111.57,78.01)\"><text>100.0</text></g></g><g class=\"toytree-TipLabels\" style=\"fill:rgb(14.9%,14.9%,14.9%);fill-opacity:1.0;font-family:helvetica;font-size:11px;font-weight:normal;stroke:none;white-space:pre\"><g transform=\"translate(261.89,438.15)rotate(0)\"><text x=\"15.00\" y=\"2.81\" style=\"\">V._lautum_MKM_3_Teopisca</text></g><g transform=\"translate(237.86,419.33)rotate(0)\"><text x=\"15.00\" y=\"2.81\" style=\"\">V._lautum_MKM_2_Teopisca</text></g><g transform=\"translate(267.39,400.52)rotate(0)\"><text x=\"15.00\" y=\"2.81\" style=\"\">V._lautum_MKM_9_Teopisca</text></g><g transform=\"translate(217.64,381.70)rotate(0)\"><text x=\"15.00\" y=\"2.81\" style=\"\">V._lautum_MKM_1_Teopisca</text></g><g transform=\"translate(281.77,362.89)rotate(0)\"><text x=\"15.00\" y=\"2.81\" style=\"\">V._lautum_reference_Teopisca</text></g><g transform=\"translate(241.74,344.07)rotate(0)\"><text x=\"15.00\" y=\"2.81\" style=\"\">V._lautum_MKM_24_Moxviqil</text></g><g transform=\"translate(265.50,325.26)rotate(0)\"><text x=\"15.00\" y=\"2.81\" style=\"\">V._lautum_MKM_23_Moxviqil</text></g><g transform=\"translate(261.08,306.44)rotate(0)\"><text x=\"15.00\" y=\"2.81\" style=\"\">V._lautum_MKM_25_Moxviqil</text></g><g transform=\"translate(243.74,287.63)rotate(0)\"><text x=\"15.00\" y=\"2.81\" style=\"\">V._lautum_MKM_26_Moxviqil</text></g><g transform=\"translate(268.00,268.81)rotate(0)\"><text x=\"15.00\" y=\"2.81\" style=\"\">V._jucundum_MKM_17_Huitepec</text></g><g transform=\"translate(255.10,250.00)rotate(0)\"><text x=\"15.00\" y=\"2.81\" style=\"\">V._jucundum_MKM_16_Huitepec</text></g><g transform=\"translate(260.81,231.19)rotate(0)\"><text x=\"15.00\" y=\"2.81\" style=\"\">V._jucundum_MKM_13_Huitepec</text></g><g transform=\"translate(193.39,212.37)rotate(0)\"><text x=\"15.00\" y=\"2.81\" style=\"\">V._jucundum_MKM_20_Huitepec</text></g><g transform=\"translate(247.99,193.56)rotate(0)\"><text x=\"15.00\" y=\"2.81\" style=\"\">V._jucundum_MKM_15_Huitepec</text></g><g transform=\"translate(259.28,174.74)rotate(0)\"><text x=\"15.00\" y=\"2.81\" style=\"\">V._jucundum_MKM_14_Huitepec</text></g><g transform=\"translate(208.61,155.93)rotate(0)\"><text x=\"15.00\" y=\"2.81\" style=\"\">V._jucundum_MKM_12_Huitepec</text></g><g transform=\"translate(221.77,137.11)rotate(0)\"><text x=\"15.00\" y=\"2.81\" style=\"\">V._jucundum_MKM_18_Huitepec</text></g><g transform=\"translate(221.78,118.30)rotate(0)\"><text x=\"15.00\" y=\"2.81\" style=\"\">V._jucundum_MKM_11_Yalentay</text></g><g transform=\"translate(198.95,99.48)rotate(0)\"><text x=\"15.00\" y=\"2.81\" style=\"\">V._hartwegii_PWS_3193</text></g><g transform=\"translate(173.44,80.67)rotate(0)\"><text x=\"15.00\" y=\"2.81\" style=\"\">V._hartwegii_PWS_3186</text></g><g transform=\"translate(167.42,61.85)rotate(0)\"><text x=\"15.00\" y=\"2.81\" style=\"\">V._hartwegii_PWS_3190</text></g></g></g></g></g></svg><div class=\"toyplot-behavior\"><script>(function()\n",
       "{\n",
       "var modules={};\n",
       "})();</script></div></div>"
      ]
     },
     "metadata": {},
     "output_type": "display_data"
    }
   ],
   "source": [
    "#root tree in hartwegii\n",
    "tre = tre.root(wildcard=\"hartwegii\")\n",
    "\n",
    "new_tip_labels = [new_names[tip] for tip in tre.get_tip_labels()]\n",
    "\n",
    "canvas, _, _ = tre.draw(width=500, height=500, \n",
    "                        node_labels=\"support\",\n",
    "                        node_labels_style= {\n",
    "                            \"-toyplot-anchor-shift\": \"12px\",\n",
    "                            \"baseline-shift\": \"0px\",\n",
    "                            \"text-shadow\": \"0.5px 0.5px #fff, -0.5px 0.5px #fff, 0.5px -0.5px #fff, -0.5px -0.5px #fff\",\n",
    "                            \"fill\": \"#000\",\n",
    "                            \"font-size\": 8,\n",
    "                        },\n",
    "                        tip_labels=new_tip_labels,\n",
    "                        # node_sizes=5, node_colors=\"black\"\n",
    "                       )"
   ]
  },
  {
   "cell_type": "code",
   "execution_count": 48,
   "metadata": {},
   "outputs": [],
   "source": [
    "!mkdir -p svgs"
   ]
  },
  {
   "cell_type": "code",
   "execution_count": 49,
   "metadata": {
    "tags": []
   },
   "outputs": [],
   "source": [
    "#export tree as svg\n",
    "import toyplot.pdf\n",
    "toyplot.svg.render(canvas, \"./svgs/1-admixture-ref-IQtree.svg\")"
   ]
  },
  {
   "cell_type": "code",
   "execution_count": 50,
   "metadata": {},
   "outputs": [
    {
     "data": {
      "text/html": [
       "<div class=\"toyplot\" id=\"t371cb4b59c2342d1b308851408af4b9f\" style=\"text-align:center\"><svg class=\"toyplot-canvas-Canvas\" xmlns:toyplot=\"http://www.sandia.gov/toyplot\" xmlns:xlink=\"http://www.w3.org/1999/xlink\" xmlns=\"http://www.w3.org/2000/svg\" width=\"390.0px\" height=\"378.0px\" viewBox=\"0 0 390.0 378.0\" preserveAspectRatio=\"xMidYMid meet\" style=\"background-color:transparent;border-color:#292724;border-style:none;border-width:1.0;fill:rgb(16.1%,15.3%,14.1%);fill-opacity:1.0;font-family:Helvetica;font-size:12px;opacity:1.0;stroke:rgb(16.1%,15.3%,14.1%);stroke-opacity:1.0;stroke-width:1.0\" id=\"tcd40e2e1606149b0ac0658f62f07fdce\"><g class=\"toyplot-coordinates-Cartesian\" id=\"t821beeb7bdc749b4849c86ecb08479b9\"><clipPath id=\"t953cb20a697b4486bafd4f16a7cd0e75\"><rect x=\"30.0\" y=\"30.0\" width=\"330.0\" height=\"318.0\"></rect></clipPath><g clip-path=\"url(#t953cb20a697b4486bafd4f16a7cd0e75)\"><g class=\"toytree-mark-Toytree\" id=\"t1438074580c54d128f0f9b0812247e38\"><g class=\"toytree-Edges\" style=\"fill:none;stroke:rgb(14.9%,14.9%,14.9%);stroke-linecap:round;stroke-opacity:1;stroke-width:2\"><path d=\"M 51.0 131.5 L 51.0 71.1 L 87.3 71.1\" id=\"40,39\"></path><path d=\"M 51.0 131.5 L 51.0 192.0 L 87.3 192.0\" id=\"40,38\"></path><path d=\"M 87.3 71.1 L 87.3 80.7 L 97.8 80.7\" id=\"39,37\"></path><path d=\"M 87.3 192.0 L 87.3 130.5 L 108.3 130.5\" id=\"38,36\"></path><path d=\"M 87.3 192.0 L 87.3 253.5 L 97.6 253.5\" id=\"38,35\"></path><path d=\"M 108.3 130.5 L 108.3 106.2 L 116.2 106.2\" id=\"36,34\"></path><path d=\"M 108.3 130.5 L 108.3 154.7 L 115.5 154.7\" id=\"36,33\"></path><path d=\"M 97.6 253.5 L 97.6 225.6 L 114.4 225.6\" id=\"35,32\"></path><path d=\"M 97.6 253.5 L 97.6 281.4 L 111.8 281.4\" id=\"35,31\"></path><path d=\"M 115.5 154.7 L 115.5 134.8 L 122.6 134.8\" id=\"33,30\"></path><path d=\"M 115.5 154.7 L 115.5 174.7 L 121.0 174.7\" id=\"33,29\"></path><path d=\"M 114.4 225.6 L 114.4 236.8 L 123.5 236.8\" id=\"32,28\"></path><path d=\"M 111.8 281.4 L 111.8 297.3 L 120.4 297.3\" id=\"31,27\"></path><path d=\"M 122.6 134.8 L 122.6 144.4 L 132.3 144.4\" id=\"30,26\"></path><path d=\"M 121.0 174.7 L 121.0 185.8 L 127.7 185.8\" id=\"29,25\"></path><path d=\"M 123.5 236.8 L 123.5 246.4 L 130.1 246.4\" id=\"28,24\"></path><path d=\"M 120.4 297.3 L 120.4 284.6 L 126.7 284.6\" id=\"27,23\"></path><path d=\"M 120.4 297.3 L 120.4 310.1 L 128.8 310.1\" id=\"27,22\"></path><path d=\"M 127.7 185.8 L 127.7 195.4 L 135.1 195.4\" id=\"25,21\"></path><path d=\"M 87.3 71.1 L 87.3 61.6 L 123.2 61.6\" id=\"39,20\"></path><path d=\"M 97.8 80.7 L 97.8 74.3 L 126.9 74.3\" id=\"37,19\"></path><path d=\"M 97.8 80.7 L 97.8 87.0 L 142.7 87.0\" id=\"37,18\"></path><path d=\"M 116.2 106.2 L 116.2 99.8 L 156.9 99.8\" id=\"34,17\"></path><path d=\"M 116.2 106.2 L 116.2 112.5 L 156.9 112.5\" id=\"34,16\"></path><path d=\"M 122.6 134.8 L 122.6 125.3 L 148.7 125.3\" id=\"30,15\"></path><path d=\"M 132.3 144.4 L 132.3 138.0 L 180.2 138.0\" id=\"26,14\"></path><path d=\"M 132.3 144.4 L 132.3 150.8 L 173.2 150.8\" id=\"26,13\"></path><path d=\"M 121.0 174.7 L 121.0 163.5 L 139.3 163.5\" id=\"29,12\"></path><path d=\"M 127.7 185.8 L 127.7 176.3 L 181.1 176.3\" id=\"25,11\"></path><path d=\"M 135.1 195.4 L 135.1 189.0 L 177.6 189.0\" id=\"21,10\"></path><path d=\"M 135.1 195.4 L 135.1 201.7 L 185.6 201.7\" id=\"21,9\"></path><path d=\"M 114.4 225.6 L 114.4 214.5 L 170.5 214.5\" id=\"32,8\"></path><path d=\"M 123.5 236.8 L 123.5 227.2 L 181.3 227.2\" id=\"28,7\"></path><path d=\"M 130.1 246.4 L 130.1 240.0 L 184.0 240.0\" id=\"24,6\"></path><path d=\"M 130.1 246.4 L 130.1 252.7 L 169.3 252.7\" id=\"24,5\"></path><path d=\"M 111.8 281.4 L 111.8 265.5 L 194.1 265.5\" id=\"31,4\"></path><path d=\"M 126.7 284.6 L 126.7 278.2 L 154.3 278.2\" id=\"23,3\"></path><path d=\"M 126.7 284.6 L 126.7 291.0 L 185.2 291.0\" id=\"23,2\"></path><path d=\"M 128.8 310.1 L 128.8 303.7 L 166.9 303.7\" id=\"22,1\"></path><path d=\"M 128.8 310.1 L 128.8 316.4 L 181.8 316.4\" id=\"22,0\"></path></g><g class=\"toytree-TipLabels\" style=\"fill:rgb(14.9%,14.9%,14.9%);fill-opacity:1.0;font-family:helvetica;font-size:11px;font-weight:normal;stroke:none;white-space:pre\"><g transform=\"translate(181.80,316.45)rotate(0)\"><text x=\"15.00\" y=\"2.81\" style=\"\">V._lautum_MKM_3_Teopisca</text></g><g transform=\"translate(166.89,303.70)rotate(0)\"><text x=\"15.00\" y=\"2.81\" style=\"\">V._lautum_MKM_2_Teopisca</text></g><g transform=\"translate(185.22,290.96)rotate(0)\"><text x=\"15.00\" y=\"2.81\" style=\"\">V._lautum_MKM_9_Teopisca</text></g><g transform=\"translate(154.33,278.21)rotate(0)\"><text x=\"15.00\" y=\"2.81\" style=\"\">V._lautum_MKM_1_Teopisca</text></g><g transform=\"translate(194.14,265.47)rotate(0)\"><text x=\"15.00\" y=\"2.81\" style=\"\">V._lautum_reference_Teopisca</text></g><g transform=\"translate(169.29,252.72)rotate(0)\"><text x=\"15.00\" y=\"2.81\" style=\"\">V._lautum_MKM_24_Moxviqil</text></g><g transform=\"translate(184.04,239.98)rotate(0)\"><text x=\"15.00\" y=\"2.81\" style=\"\">V._lautum_MKM_23_Moxviqil</text></g><g transform=\"translate(181.30,227.23)rotate(0)\"><text x=\"15.00\" y=\"2.81\" style=\"\">V._lautum_MKM_25_Moxviqil</text></g><g transform=\"translate(170.53,214.49)rotate(0)\"><text x=\"15.00\" y=\"2.81\" style=\"\">V._lautum_MKM_26_Moxviqil</text></g><g transform=\"translate(185.59,201.74)rotate(0)\"><text x=\"15.00\" y=\"2.81\" style=\"\">V._jucundum_MKM_17_Huitepec</text></g><g transform=\"translate(177.58,189.00)rotate(0)\"><text x=\"15.00\" y=\"2.81\" style=\"\">V._jucundum_MKM_16_Huitepec</text></g><g transform=\"translate(181.13,176.26)rotate(0)\"><text x=\"15.00\" y=\"2.81\" style=\"\">V._jucundum_MKM_13_Huitepec</text></g><g transform=\"translate(139.28,163.51)rotate(0)\"><text x=\"15.00\" y=\"2.81\" style=\"\">V._jucundum_MKM_20_Huitepec</text></g><g transform=\"translate(173.17,150.77)rotate(0)\"><text x=\"15.00\" y=\"2.81\" style=\"\">V._jucundum_MKM_15_Huitepec</text></g><g transform=\"translate(180.18,138.02)rotate(0)\"><text x=\"15.00\" y=\"2.81\" style=\"\">V._jucundum_MKM_14_Huitepec</text></g><g transform=\"translate(148.73,125.28)rotate(0)\"><text x=\"15.00\" y=\"2.81\" style=\"\">V._jucundum_MKM_12_Huitepec</text></g><g transform=\"translate(156.90,112.53)rotate(0)\"><text x=\"15.00\" y=\"2.81\" style=\"\">V._jucundum_MKM_18_Huitepec</text></g><g transform=\"translate(156.90,99.79)rotate(0)\"><text x=\"15.00\" y=\"2.81\" style=\"\">V._jucundum_MKM_11_Yalentay</text></g><g transform=\"translate(142.73,87.04)rotate(0)\"><text x=\"15.00\" y=\"2.81\" style=\"\">V._hartwegii_PWS_3193</text></g><g transform=\"translate(126.90,74.30)rotate(0)\"><text x=\"15.00\" y=\"2.81\" style=\"\">V._hartwegii_PWS_3186</text></g><g transform=\"translate(123.16,61.55)rotate(0)\"><text x=\"15.00\" y=\"2.81\" style=\"\">V._hartwegii_PWS_3190</text></g></g></g></g></g></svg><div class=\"toyplot-behavior\"><script>(function()\n",
       "{\n",
       "var modules={};\n",
       "})();</script></div></div>"
      ]
     },
     "metadata": {},
     "output_type": "display_data"
    }
   ],
   "source": [
    "# update label not only for presentation, this creates a new tree with current names, and exports it.\n",
    "updateddict = {}\n",
    "for i in tre.get_tip_labels():\n",
    "    updateddict[i] = new_names[i]\n",
    "\n",
    "    \n",
    "tre_renamed = tre.set_node_values(\n",
    "    feature=\"name\",\n",
    "    values=updateddict,\n",
    ")\n",
    "\n",
    "tre_renamed.draw()\n",
    "\n",
    "tre_renamed.write(f\"{treeFile}_RENAMED\", tree_format=0)"
   ]
  },
  {
   "attachments": {},
   "cell_type": "markdown",
   "metadata": {},
   "source": [
    "### Run RAxML"
   ]
  },
  {
   "cell_type": "markdown",
   "metadata": {},
   "source": [
    "#### Run"
   ]
  },
  {
   "cell_type": "code",
   "execution_count": 40,
   "metadata": {},
   "outputs": [
    {
     "data": {
      "text/plain": [
       "'0.9.84'"
      ]
     },
     "execution_count": 40,
     "metadata": {},
     "output_type": "execute_result"
    }
   ],
   "source": [
    "import ipyrad.analysis as ipa\n",
    "ipa.__version__"
   ]
  },
  {
   "cell_type": "code",
   "execution_count": 41,
   "metadata": {},
   "outputs": [],
   "source": [
    "NAME = '1-admixture-ref-raxml'"
   ]
  },
  {
   "cell_type": "code",
   "execution_count": 42,
   "metadata": {},
   "outputs": [],
   "source": [
    "rax = ipa.raxml(\"./analysis-window_extracter/1-admixture-ref.phy\", name=NAME, T=36, N=100, m=\"GTRCAT\")"
   ]
  },
  {
   "cell_type": "code",
   "execution_count": 43,
   "metadata": {},
   "outputs": [
    {
     "name": "stdout",
     "output_type": "stream",
     "text": [
      "/gpfs/ysm/project/edwards/cm2828/conda_envs/ipyrad_from_conda/bin/raxmlHPC-PTHREADS-AVX2 -f a -T 36 -m GTRCAT -n 1-admixture-ref-raxml -w /gpfs/ysm/project/edwards/cm2828/morganTrees_admixtureProj/analysis-raxml -s /gpfs/ysm/project/edwards/cm2828/morganTrees_admixtureProj/analysis-window_extracter/1-admixture-ref.phy -p 54321 -N 100 -x 12345\n"
     ]
    }
   ],
   "source": [
    "print(rax.command)"
   ]
  },
  {
   "cell_type": "code",
   "execution_count": null,
   "metadata": {},
   "outputs": [],
   "source": [
    "rax.run()"
   ]
  },
  {
   "cell_type": "markdown",
   "metadata": {},
   "source": [
    "#### Print tree"
   ]
  },
  {
   "cell_type": "code",
   "execution_count": 51,
   "metadata": {},
   "outputs": [],
   "source": [
    "treeFile = f\"./analysis-raxml/RAxML_bipartitions.1-admixture-ref-raxml\"\n",
    "tre = toytree.tree(treeFile)"
   ]
  },
  {
   "cell_type": "code",
   "execution_count": 52,
   "metadata": {},
   "outputs": [
    {
     "data": {
      "text/html": [
       "<div class=\"toyplot\" id=\"t68ee844b2ebb4b20bd09d1e815aea01f\" style=\"text-align:center\"><svg class=\"toyplot-canvas-Canvas\" xmlns:toyplot=\"http://www.sandia.gov/toyplot\" xmlns:xlink=\"http://www.w3.org/1999/xlink\" xmlns=\"http://www.w3.org/2000/svg\" width=\"500.0px\" height=\"500.0px\" viewBox=\"0 0 500.0 500.0\" preserveAspectRatio=\"xMidYMid meet\" style=\"background-color:transparent;border-color:#292724;border-style:none;border-width:1.0;fill:rgb(16.1%,15.3%,14.1%);fill-opacity:1.0;font-family:Helvetica;font-size:12px;opacity:1.0;stroke:rgb(16.1%,15.3%,14.1%);stroke-opacity:1.0;stroke-width:1.0\" id=\"t520115b7790d43cbb64efaabf1f9874c\"><g class=\"toyplot-coordinates-Cartesian\" id=\"tb94156d3ddb44ce6a553c2153629f881\"><clipPath id=\"taf414083a5b74a5b8cd9de6ea75b92cb\"><rect x=\"30.0\" y=\"30.0\" width=\"440.0\" height=\"440.0\"></rect></clipPath><g clip-path=\"url(#taf414083a5b74a5b8cd9de6ea75b92cb)\"><g class=\"toytree-mark-Toytree\" id=\"t3bdd9a00511f4678a5a9b613607db2f2\"><g class=\"toytree-Edges\" style=\"fill:none;stroke:rgb(14.9%,14.9%,14.9%);stroke-linecap:round;stroke-opacity:1;stroke-width:2\"><path d=\"M 51.2 165.2 L 51.2 76.0 L 105.0 76.0\" id=\"40,39\"></path><path d=\"M 51.2 165.2 L 51.2 254.4 L 105.0 254.4\" id=\"40,38\"></path><path d=\"M 105.0 76.0 L 105.0 90.1 L 124.6 90.1\" id=\"39,37\"></path><path d=\"M 105.0 254.4 L 105.0 163.6 L 141.0 163.6\" id=\"38,36\"></path><path d=\"M 105.0 254.4 L 105.0 345.2 L 126.3 345.2\" id=\"38,35\"></path><path d=\"M 141.0 163.6 L 141.0 127.7 L 156.8 127.7\" id=\"36,34\"></path><path d=\"M 141.0 163.6 L 141.0 199.4 L 154.2 199.4\" id=\"36,33\"></path><path d=\"M 126.3 345.2 L 126.3 304.1 L 155.1 304.1\" id=\"35,32\"></path><path d=\"M 126.3 345.2 L 126.3 386.4 L 152.9 386.4\" id=\"35,31\"></path><path d=\"M 154.2 199.4 L 154.2 170.0 L 170.1 170.0\" id=\"33,30\"></path><path d=\"M 154.2 199.4 L 154.2 228.8 L 164.0 228.8\" id=\"33,29\"></path><path d=\"M 155.1 304.1 L 155.1 320.6 L 171.2 320.6\" id=\"32,28\"></path><path d=\"M 152.9 386.4 L 152.9 409.9 L 171.6 409.9\" id=\"31,27\"></path><path d=\"M 170.1 170.0 L 170.1 184.1 L 185.9 184.1\" id=\"30,26\"></path><path d=\"M 164.0 228.8 L 164.0 245.3 L 172.3 245.3\" id=\"29,25\"></path><path d=\"M 171.2 320.6 L 171.2 334.7 L 183.4 334.7\" id=\"28,24\"></path><path d=\"M 171.6 409.9 L 171.6 391.1 L 187.5 391.1\" id=\"27,23\"></path><path d=\"M 171.6 409.9 L 171.6 428.7 L 183.9 428.7\" id=\"27,22\"></path><path d=\"M 172.3 245.3 L 172.3 259.4 L 176.8 259.4\" id=\"25,21\"></path><path d=\"M 105.0 76.0 L 105.0 61.9 L 166.0 61.9\" id=\"39,20\"></path><path d=\"M 124.6 90.1 L 124.6 80.7 L 173.3 80.7\" id=\"37,19\"></path><path d=\"M 124.6 90.1 L 124.6 99.5 L 200.7 99.5\" id=\"37,18\"></path><path d=\"M 156.8 127.7 L 156.8 118.3 L 223.2 118.3\" id=\"34,17\"></path><path d=\"M 156.8 127.7 L 156.8 137.1 L 223.2 137.1\" id=\"34,16\"></path><path d=\"M 170.1 170.0 L 170.1 155.9 L 249.6 155.9\" id=\"30,15\"></path><path d=\"M 185.9 184.1 L 185.9 174.7 L 255.2 174.7\" id=\"26,14\"></path><path d=\"M 185.9 184.1 L 185.9 193.6 L 268.5 193.6\" id=\"26,13\"></path><path d=\"M 164.0 228.8 L 164.0 212.4 L 197.0 212.4\" id=\"29,12\"></path><path d=\"M 172.3 245.3 L 172.3 231.2 L 269.0 231.2\" id=\"25,11\"></path><path d=\"M 176.8 259.4 L 176.8 250.0 L 270.0 250.0\" id=\"21,10\"></path><path d=\"M 176.8 259.4 L 176.8 268.8 L 216.5 268.8\" id=\"21,9\"></path><path d=\"M 155.1 304.1 L 155.1 287.6 L 248.2 287.6\" id=\"32,8\"></path><path d=\"M 171.2 320.6 L 171.2 306.4 L 267.1 306.4\" id=\"28,7\"></path><path d=\"M 183.4 334.7 L 183.4 325.3 L 272.5 325.3\" id=\"24,6\"></path><path d=\"M 183.4 334.7 L 183.4 344.1 L 245.9 344.1\" id=\"24,5\"></path><path d=\"M 152.9 386.4 L 152.9 362.9 L 281.3 362.9\" id=\"31,4\"></path><path d=\"M 187.5 391.1 L 187.5 381.7 L 274.9 381.7\" id=\"23,3\"></path><path d=\"M 187.5 391.1 L 187.5 400.5 L 247.6 400.5\" id=\"23,2\"></path><path d=\"M 183.9 428.7 L 183.9 419.3 L 280.8 419.3\" id=\"22,1\"></path><path d=\"M 183.9 428.7 L 183.9 438.1 L 226.8 438.1\" id=\"22,0\"></path></g><g class=\"toytree-NodeLabels\" style=\"fill:rgb(0%,0%,0%);fill-opacity:1.0;font-size:8;stroke:none;text-shadow:0.5px 0.5px #fff, -0.5px 0.5px #fff, 0.5px -0.5px #fff, -0.5px -0.5px #fff\"><g transform=\"translate(186.62,261.45)\"><text>0</text></g><g transform=\"translate(189.24,430.78)\"><text>100</text></g><g transform=\"translate(192.84,393.15)\"><text>100</text></g><g transform=\"translate(188.74,336.71)\"><text>100</text></g><g transform=\"translate(182.08,247.34)\"><text>0</text></g><g transform=\"translate(191.18,186.19)\"><text>100</text></g><g transform=\"translate(176.92,411.97)\"><text>100</text></g><g transform=\"translate(176.54,322.60)\"><text>100</text></g><g transform=\"translate(173.73,230.88)\"><text>0</text></g><g transform=\"translate(179.88,172.08)\"><text>0</text></g><g transform=\"translate(158.23,388.45)\"><text>100</text></g><g transform=\"translate(160.41,306.14)\"><text>100</text></g><g transform=\"translate(161.77,201.48)\"><text>99</text></g><g transform=\"translate(164.34,129.75)\"><text>99</text></g><g transform=\"translate(131.64,347.29)\"><text>100</text></g><g transform=\"translate(146.37,165.61)\"><text>100</text></g><g transform=\"translate(129.95,92.12)\"><text>100</text></g><g transform=\"translate(110.35,256.45)\"><text>100</text></g><g transform=\"translate(110.35,78.01)\"><text>100</text></g></g><g class=\"toytree-TipLabels\" style=\"fill:rgb(14.9%,14.9%,14.9%);fill-opacity:1.0;font-family:helvetica;font-size:11px;font-weight:normal;stroke:none;white-space:pre\"><g transform=\"translate(226.80,438.15)rotate(0)\"><text x=\"15.00\" y=\"2.81\" style=\"\">V._lautum_MKM_1_Teopisca</text></g><g transform=\"translate(280.75,419.33)rotate(0)\"><text x=\"15.00\" y=\"2.81\" style=\"\">V._lautum_MKM_9_Teopisca</text></g><g transform=\"translate(247.64,400.52)rotate(0)\"><text x=\"15.00\" y=\"2.81\" style=\"\">V._lautum_MKM_2_Teopisca</text></g><g transform=\"translate(274.91,381.70)rotate(0)\"><text x=\"15.00\" y=\"2.81\" style=\"\">V._lautum_MKM_3_Teopisca</text></g><g transform=\"translate(281.34,362.89)rotate(0)\"><text x=\"15.00\" y=\"2.81\" style=\"\">V._lautum_reference_Teopisca</text></g><g transform=\"translate(245.94,344.07)rotate(0)\"><text x=\"15.00\" y=\"2.81\" style=\"\">V._lautum_MKM_24_Moxviqil</text></g><g transform=\"translate(272.48,325.26)rotate(0)\"><text x=\"15.00\" y=\"2.81\" style=\"\">V._lautum_MKM_23_Moxviqil</text></g><g transform=\"translate(267.10,306.44)rotate(0)\"><text x=\"15.00\" y=\"2.81\" style=\"\">V._lautum_MKM_25_Moxviqil</text></g><g transform=\"translate(248.20,287.63)rotate(0)\"><text x=\"15.00\" y=\"2.81\" style=\"\">V._lautum_MKM_26_Moxviqil</text></g><g transform=\"translate(216.46,268.81)rotate(0)\"><text x=\"15.00\" y=\"2.81\" style=\"\">V._jucundum_MKM_12_Huitepec</text></g><g transform=\"translate(270.00,250.00)rotate(0)\"><text x=\"15.00\" y=\"2.81\" style=\"\">V._jucundum_MKM_13_Huitepec</text></g><g transform=\"translate(268.99,231.19)rotate(0)\"><text x=\"15.00\" y=\"2.81\" style=\"\">V._jucundum_MKM_14_Huitepec</text></g><g transform=\"translate(197.02,212.37)rotate(0)\"><text x=\"15.00\" y=\"2.81\" style=\"\">V._jucundum_MKM_20_Huitepec</text></g><g transform=\"translate(268.46,193.56)rotate(0)\"><text x=\"15.00\" y=\"2.81\" style=\"\">V._jucundum_MKM_17_Huitepec</text></g><g transform=\"translate(255.24,174.74)rotate(0)\"><text x=\"15.00\" y=\"2.81\" style=\"\">V._jucundum_MKM_16_Huitepec</text></g><g transform=\"translate(249.59,155.93)rotate(0)\"><text x=\"15.00\" y=\"2.81\" style=\"\">V._jucundum_MKM_15_Huitepec</text></g><g transform=\"translate(223.23,137.11)rotate(0)\"><text x=\"15.00\" y=\"2.81\" style=\"\">V._jucundum_MKM_11_Yalentay</text></g><g transform=\"translate(223.17,118.30)rotate(0)\"><text x=\"15.00\" y=\"2.81\" style=\"\">V._jucundum_MKM_18_Huitepec</text></g><g transform=\"translate(200.72,99.48)rotate(0)\"><text x=\"15.00\" y=\"2.81\" style=\"\">V._hartwegii_PWS_3193</text></g><g transform=\"translate(173.26,80.67)rotate(0)\"><text x=\"15.00\" y=\"2.81\" style=\"\">V._hartwegii_PWS_3186</text></g><g transform=\"translate(165.96,61.85)rotate(0)\"><text x=\"15.00\" y=\"2.81\" style=\"\">V._hartwegii_PWS_3190</text></g></g></g></g></g></svg><div class=\"toyplot-behavior\"><script>(function()\n",
       "{\n",
       "var modules={};\n",
       "})();</script></div></div>"
      ]
     },
     "metadata": {},
     "output_type": "display_data"
    }
   ],
   "source": [
    "#root tree in hartwegii\n",
    "tre = tre.root(wildcard=\"hartwegii\")\n",
    "\n",
    "new_tip_labels = [new_names[tip] for tip in tre.get_tip_labels()]\n",
    "\n",
    "canvas, _, _ = tre.draw(width=500, height=500, \n",
    "                        node_labels=\"support\",\n",
    "                        node_labels_style= {\n",
    "                            \"-toyplot-anchor-shift\": \"12px\",\n",
    "                            \"baseline-shift\": \"0px\",\n",
    "                            \"text-shadow\": \"0.5px 0.5px #fff, -0.5px 0.5px #fff, 0.5px -0.5px #fff, -0.5px -0.5px #fff\",\n",
    "                            \"fill\": \"#000\",\n",
    "                            \"font-size\": 8,\n",
    "                        },\n",
    "                        tip_labels=new_tip_labels,\n",
    "                        # node_sizes=5, node_colors=\"black\"\n",
    "                       )"
   ]
  },
  {
   "cell_type": "code",
   "execution_count": 53,
   "metadata": {
    "tags": []
   },
   "outputs": [],
   "source": [
    "#export tree as svg\n",
    "import toyplot.pdf\n",
    "\n",
    "toyplot.svg.render(canvas, \"./svgs/1-admixture-ref-raxml.svg\")"
   ]
  },
  {
   "cell_type": "code",
   "execution_count": 54,
   "metadata": {},
   "outputs": [
    {
     "data": {
      "text/html": [
       "<div class=\"toyplot\" id=\"t8e95e0b82e254379bc71203212ef709d\" style=\"text-align:center\"><svg class=\"toyplot-canvas-Canvas\" xmlns:toyplot=\"http://www.sandia.gov/toyplot\" xmlns:xlink=\"http://www.w3.org/1999/xlink\" xmlns=\"http://www.w3.org/2000/svg\" width=\"390.0px\" height=\"378.0px\" viewBox=\"0 0 390.0 378.0\" preserveAspectRatio=\"xMidYMid meet\" style=\"background-color:transparent;border-color:#292724;border-style:none;border-width:1.0;fill:rgb(16.1%,15.3%,14.1%);fill-opacity:1.0;font-family:Helvetica;font-size:12px;opacity:1.0;stroke:rgb(16.1%,15.3%,14.1%);stroke-opacity:1.0;stroke-width:1.0\" id=\"tc5ed3f3522114e00a51ff5a5773fa1ee\"><g class=\"toyplot-coordinates-Cartesian\" id=\"t047fb65d17574ec2b853c19e014c88e1\"><clipPath id=\"t50a6aaabbc484f94a1523ab87e79c592\"><rect x=\"30.0\" y=\"30.0\" width=\"330.0\" height=\"318.0\"></rect></clipPath><g clip-path=\"url(#t50a6aaabbc484f94a1523ab87e79c592)\"><g class=\"toytree-mark-Toytree\" id=\"tc07276c0a57f41eaa6fde2e1ff13bc88\"><g class=\"toytree-Edges\" style=\"fill:none;stroke:rgb(14.9%,14.9%,14.9%);stroke-linecap:round;stroke-opacity:1;stroke-width:2\"><path d=\"M 51.0 131.5 L 51.0 71.1 L 84.3 71.1\" id=\"40,39\"></path><path d=\"M 51.0 131.5 L 51.0 192.0 L 84.3 192.0\" id=\"40,38\"></path><path d=\"M 84.3 71.1 L 84.3 80.7 L 96.4 80.7\" id=\"39,37\"></path><path d=\"M 84.3 192.0 L 84.3 130.5 L 106.6 130.5\" id=\"38,36\"></path><path d=\"M 84.3 192.0 L 84.3 253.5 L 97.5 253.5\" id=\"38,35\"></path><path d=\"M 106.6 130.5 L 106.6 106.2 L 116.3 106.2\" id=\"36,34\"></path><path d=\"M 106.6 130.5 L 106.6 154.7 L 114.7 154.7\" id=\"36,33\"></path><path d=\"M 97.5 253.5 L 97.5 225.6 L 115.3 225.6\" id=\"35,32\"></path><path d=\"M 97.5 253.5 L 97.5 281.4 L 113.9 281.4\" id=\"35,31\"></path><path d=\"M 114.7 154.7 L 114.7 134.8 L 124.6 134.8\" id=\"33,30\"></path><path d=\"M 114.7 154.7 L 114.7 174.7 L 120.8 174.7\" id=\"33,29\"></path><path d=\"M 115.3 225.6 L 115.3 236.8 L 125.3 236.8\" id=\"32,28\"></path><path d=\"M 113.9 281.4 L 113.9 297.3 L 125.5 297.3\" id=\"31,27\"></path><path d=\"M 124.6 134.8 L 124.6 144.4 L 134.3 144.4\" id=\"30,26\"></path><path d=\"M 120.8 174.7 L 120.8 185.8 L 125.9 185.8\" id=\"29,25\"></path><path d=\"M 125.3 236.8 L 125.3 246.4 L 132.8 246.4\" id=\"28,24\"></path><path d=\"M 125.5 297.3 L 125.5 284.6 L 135.4 284.6\" id=\"27,23\"></path><path d=\"M 125.5 297.3 L 125.5 310.1 L 133.1 310.1\" id=\"27,22\"></path><path d=\"M 125.9 185.8 L 125.9 195.4 L 128.8 195.4\" id=\"25,21\"></path><path d=\"M 84.3 71.1 L 84.3 61.6 L 122.0 61.6\" id=\"39,20\"></path><path d=\"M 96.4 80.7 L 96.4 74.3 L 126.5 74.3\" id=\"37,19\"></path><path d=\"M 96.4 80.7 L 96.4 87.0 L 143.5 87.0\" id=\"37,18\"></path><path d=\"M 116.3 106.2 L 116.3 99.8 L 157.4 99.8\" id=\"34,17\"></path><path d=\"M 116.3 106.2 L 116.3 112.5 L 157.4 112.5\" id=\"34,16\"></path><path d=\"M 124.6 134.8 L 124.6 125.3 L 173.8 125.3\" id=\"30,15\"></path><path d=\"M 134.3 144.4 L 134.3 138.0 L 177.3 138.0\" id=\"26,14\"></path><path d=\"M 134.3 144.4 L 134.3 150.8 L 185.4 150.8\" id=\"26,13\"></path><path d=\"M 120.8 174.7 L 120.8 163.5 L 141.2 163.5\" id=\"29,12\"></path><path d=\"M 125.9 185.8 L 125.9 176.3 L 185.8 176.3\" id=\"25,11\"></path><path d=\"M 128.8 195.4 L 128.8 189.0 L 186.4 189.0\" id=\"21,10\"></path><path d=\"M 128.8 195.4 L 128.8 201.7 L 153.3 201.7\" id=\"21,9\"></path><path d=\"M 115.3 225.6 L 115.3 214.5 L 172.9 214.5\" id=\"32,8\"></path><path d=\"M 125.3 236.8 L 125.3 227.2 L 184.6 227.2\" id=\"28,7\"></path><path d=\"M 132.8 246.4 L 132.8 240.0 L 187.9 240.0\" id=\"24,6\"></path><path d=\"M 132.8 246.4 L 132.8 252.7 L 171.5 252.7\" id=\"24,5\"></path><path d=\"M 113.9 281.4 L 113.9 265.5 L 193.4 265.5\" id=\"31,4\"></path><path d=\"M 135.4 284.6 L 135.4 278.2 L 189.4 278.2\" id=\"23,3\"></path><path d=\"M 135.4 284.6 L 135.4 291.0 L 172.6 291.0\" id=\"23,2\"></path><path d=\"M 133.1 310.1 L 133.1 303.7 L 193.0 303.7\" id=\"22,1\"></path><path d=\"M 133.1 310.1 L 133.1 316.4 L 159.7 316.4\" id=\"22,0\"></path></g><g class=\"toytree-TipLabels\" style=\"fill:rgb(14.9%,14.9%,14.9%);fill-opacity:1.0;font-family:helvetica;font-size:11px;font-weight:normal;stroke:none;white-space:pre\"><g transform=\"translate(159.66,316.45)rotate(0)\"><text x=\"15.00\" y=\"2.81\" style=\"\">V._lautum_MKM_1_Teopisca</text></g><g transform=\"translate(193.04,303.70)rotate(0)\"><text x=\"15.00\" y=\"2.81\" style=\"\">V._lautum_MKM_9_Teopisca</text></g><g transform=\"translate(172.55,290.96)rotate(0)\"><text x=\"15.00\" y=\"2.81\" style=\"\">V._lautum_MKM_2_Teopisca</text></g><g transform=\"translate(189.43,278.21)rotate(0)\"><text x=\"15.00\" y=\"2.81\" style=\"\">V._lautum_MKM_3_Teopisca</text></g><g transform=\"translate(193.40,265.47)rotate(0)\"><text x=\"15.00\" y=\"2.81\" style=\"\">V._lautum_reference_Teopisca</text></g><g transform=\"translate(171.50,252.72)rotate(0)\"><text x=\"15.00\" y=\"2.81\" style=\"\">V._lautum_MKM_24_Moxviqil</text></g><g transform=\"translate(187.92,239.98)rotate(0)\"><text x=\"15.00\" y=\"2.81\" style=\"\">V._lautum_MKM_23_Moxviqil</text></g><g transform=\"translate(184.59,227.23)rotate(0)\"><text x=\"15.00\" y=\"2.81\" style=\"\">V._lautum_MKM_25_Moxviqil</text></g><g transform=\"translate(172.90,214.49)rotate(0)\"><text x=\"15.00\" y=\"2.81\" style=\"\">V._lautum_MKM_26_Moxviqil</text></g><g transform=\"translate(153.26,201.74)rotate(0)\"><text x=\"15.00\" y=\"2.81\" style=\"\">V._jucundum_MKM_12_Huitepec</text></g><g transform=\"translate(186.39,189.00)rotate(0)\"><text x=\"15.00\" y=\"2.81\" style=\"\">V._jucundum_MKM_13_Huitepec</text></g><g transform=\"translate(185.76,176.26)rotate(0)\"><text x=\"15.00\" y=\"2.81\" style=\"\">V._jucundum_MKM_14_Huitepec</text></g><g transform=\"translate(141.23,163.51)rotate(0)\"><text x=\"15.00\" y=\"2.81\" style=\"\">V._jucundum_MKM_20_Huitepec</text></g><g transform=\"translate(185.44,150.77)rotate(0)\"><text x=\"15.00\" y=\"2.81\" style=\"\">V._jucundum_MKM_17_Huitepec</text></g><g transform=\"translate(177.25,138.02)rotate(0)\"><text x=\"15.00\" y=\"2.81\" style=\"\">V._jucundum_MKM_16_Huitepec</text></g><g transform=\"translate(173.76,125.28)rotate(0)\"><text x=\"15.00\" y=\"2.81\" style=\"\">V._jucundum_MKM_15_Huitepec</text></g><g transform=\"translate(157.45,112.53)rotate(0)\"><text x=\"15.00\" y=\"2.81\" style=\"\">V._jucundum_MKM_11_Yalentay</text></g><g transform=\"translate(157.41,99.79)rotate(0)\"><text x=\"15.00\" y=\"2.81\" style=\"\">V._jucundum_MKM_18_Huitepec</text></g><g transform=\"translate(143.52,87.04)rotate(0)\"><text x=\"15.00\" y=\"2.81\" style=\"\">V._hartwegii_PWS_3193</text></g><g transform=\"translate(126.54,74.30)rotate(0)\"><text x=\"15.00\" y=\"2.81\" style=\"\">V._hartwegii_PWS_3186</text></g><g transform=\"translate(122.02,61.55)rotate(0)\"><text x=\"15.00\" y=\"2.81\" style=\"\">V._hartwegii_PWS_3190</text></g></g></g></g></g></svg><div class=\"toyplot-behavior\"><script>(function()\n",
       "{\n",
       "var modules={};\n",
       "})();</script></div></div>"
      ]
     },
     "metadata": {},
     "output_type": "display_data"
    }
   ],
   "source": [
    "# update label not only for presentation, this creates a new tree with current names, and exports it.\n",
    "updateddict = {}\n",
    "for i in tre.get_tip_labels():\n",
    "    updateddict[i] = new_names[i]\n",
    "\n",
    "    \n",
    "tre_renamed = tre.set_node_values(\n",
    "    feature=\"name\",\n",
    "    values=updateddict,\n",
    ")\n",
    "\n",
    "tre_renamed.draw()\n",
    "\n",
    "tre_renamed.write(f\"{treeFile}_RENAMED\", tree_format=0)"
   ]
  },
  {
   "attachments": {},
   "cell_type": "markdown",
   "metadata": {},
   "source": [
    "## Reconstructions for the Denovo assembly (hartout_outfiles)"
   ]
  },
  {
   "cell_type": "markdown",
   "metadata": {},
   "source": [
    "### Load sequences"
   ]
  },
  {
   "cell_type": "code",
   "execution_count": null,
   "metadata": {},
   "outputs": [],
   "source": [
    "SEQS = \"./data/hartout.seqs.hdf5\""
   ]
  },
  {
   "cell_type": "markdown",
   "metadata": {},
   "source": [
    "### Check scaffolds lengths"
   ]
  },
  {
   "cell_type": "code",
   "execution_count": null,
   "metadata": {},
   "outputs": [],
   "source": [
    "# get scaffolds sorted by length and select the biggest\n",
    "scaffs = ipa.window_extracter(SEQS)\n",
    "scaff_table = scaffs.scaffold_table.sort_values(by=\"scaffold_length\", ascending=False)\n",
    "display (scaff_table)\n",
    "scaff_toUse = scaff_table.index.tolist() ####ALL SCAFFOLDS \n",
    "# print (scaff_toUse)\n",
    "print(scaff_table.scaffold_length.sum())\n",
    "print(len(scaff_toUse))"
   ]
  },
  {
   "cell_type": "markdown",
   "metadata": {},
   "source": [
    "### Window extractor to generate phy file\n",
    "Using in this case only the biggest scaffold"
   ]
  },
  {
   "cell_type": "code",
   "execution_count": null,
   "metadata": {},
   "outputs": [],
   "source": [
    "mincov = 0.25 #default was 0.25\n",
    "rmincov = 0.1 #default was 0.1\n",
    "NAME = f\"1-admixture-denovo\"\n",
    "print(NAME)"
   ]
  },
  {
   "cell_type": "code",
   "execution_count": null,
   "metadata": {},
   "outputs": [],
   "source": [
    "wex = ipa.window_extracter(\n",
    "    data=SEQS,\n",
    "    scaffold_idxs=scaff_toUse,\n",
    "    mincov=mincov, \n",
    "    rmincov=rmincov,\n",
    "    name=NAME,\n",
    "    # imap=IMAP,\n",
    ")"
   ]
  },
  {
   "cell_type": "code",
   "execution_count": null,
   "metadata": {},
   "outputs": [],
   "source": [
    "wex.run()"
   ]
  },
  {
   "cell_type": "code",
   "execution_count": null,
   "metadata": {},
   "outputs": [],
   "source": [
    "wex.stats"
   ]
  },
  {
   "cell_type": "code",
   "execution_count": null,
   "metadata": {},
   "outputs": [],
   "source": [
    "wex.stats.describe()"
   ]
  },
  {
   "attachments": {},
   "cell_type": "markdown",
   "metadata": {},
   "source": [
    "### Run IQtree"
   ]
  },
  {
   "cell_type": "markdown",
   "metadata": {},
   "source": [
    "#### Run"
   ]
  },
  {
   "cell_type": "code",
   "execution_count": null,
   "metadata": {},
   "outputs": [],
   "source": [
    "!iqtree -s ./analysis-window_extracter/1-admixture-denovo.phy \\\n",
    "-alrt 1000 \\\n",
    "-bb 1000 \\\n",
    "-nt 4 \\\n",
    "-pre 1-admixture-denovo-IQtree \\\n",
    "-m TEST \\\n",
    "-T 36"
   ]
  },
  {
   "cell_type": "markdown",
   "metadata": {},
   "source": [
    "#### Print tree"
   ]
  },
  {
   "cell_type": "code",
   "execution_count": null,
   "metadata": {},
   "outputs": [],
   "source": [
    "#create analysis-iqtree/ folder\n",
    "!mkdir -p analysis-iqtree"
   ]
  },
  {
   "cell_type": "code",
   "execution_count": null,
   "metadata": {},
   "outputs": [],
   "source": [
    "#move all results to the folder analysis-iqtree\n",
    "!mv 1-admixture-denovo* analysis-iqtree/."
   ]
  },
  {
   "cell_type": "code",
   "execution_count": null,
   "metadata": {},
   "outputs": [],
   "source": [
    "!cp ./analysis-iqtree/1-admixture-denovo-IQtree.treefile \\\n",
    "./analysis-iqtree/1-admixture-denovo-IQtree.treefile.bkp"
   ]
  },
  {
   "cell_type": "code",
   "execution_count": null,
   "metadata": {},
   "outputs": [],
   "source": [
    "# Separate support values in different trees, in this run I ask for SH-aLRT support (%) / ultrafast bootstrap support (%).\n",
    "!sed -e 's/\\/[0-9.]*//g' \"./analysis-iqtree/1-admixture-denovo-IQtree.treefile.bkp\" > \"./analysis-iqtree/1-admixture-denovo-IQtree.treefile.sh-alrt\"\n",
    "!sed -e 's/[0-9.]*\\///g' \"./analysis-iqtree/1-admixture-denovo-IQtree.treefile.bkp\" > \"./analysis-iqtree/1-admixture-denovo-IQtree.ultrafastbootstrap\""
   ]
  },
  {
   "cell_type": "code",
   "execution_count": 55,
   "metadata": {},
   "outputs": [],
   "source": [
    "import toytree\n",
    "treeFile = \"./analysis-iqtree/1-admixture-denovo-IQtree.treefile.sh-alrt\"\n",
    "tre = toytree.tree(treeFile)"
   ]
  },
  {
   "cell_type": "code",
   "execution_count": 56,
   "metadata": {},
   "outputs": [
    {
     "data": {
      "text/html": [
       "<div class=\"toyplot\" id=\"t5af5a5a19f2c45b1b266b49a7498a21d\" style=\"text-align:center\"><svg class=\"toyplot-canvas-Canvas\" xmlns:toyplot=\"http://www.sandia.gov/toyplot\" xmlns:xlink=\"http://www.w3.org/1999/xlink\" xmlns=\"http://www.w3.org/2000/svg\" width=\"500.0px\" height=\"500.0px\" viewBox=\"0 0 500.0 500.0\" preserveAspectRatio=\"xMidYMid meet\" style=\"background-color:transparent;border-color:#292724;border-style:none;border-width:1.0;fill:rgb(16.1%,15.3%,14.1%);fill-opacity:1.0;font-family:Helvetica;font-size:12px;opacity:1.0;stroke:rgb(16.1%,15.3%,14.1%);stroke-opacity:1.0;stroke-width:1.0\" id=\"t33201cc296524fef8fee33ef872e31ef\"><g class=\"toyplot-coordinates-Cartesian\" id=\"td4314aaa985c4f8a9322c9cdff19211a\"><clipPath id=\"tfb32a2ef8b824b218410da4edf12124c\"><rect x=\"30.0\" y=\"30.0\" width=\"440.0\" height=\"440.0\"></rect></clipPath><g clip-path=\"url(#tfb32a2ef8b824b218410da4edf12124c)\"><g class=\"toytree-mark-Toytree\" id=\"t568eed0b04e2413a88888aa4a83f91f9\"><g class=\"toytree-Edges\" style=\"fill:none;stroke:rgb(14.9%,14.9%,14.9%);stroke-linecap:round;stroke-opacity:1;stroke-width:2\"><path d=\"M 51.1 169.2 L 51.1 76.7 L 91.6 76.7\" id=\"38,37\"></path><path d=\"M 51.1 169.2 L 51.1 261.8 L 91.6 261.8\" id=\"38,36\"></path><path d=\"M 91.6 76.7 L 91.6 91.6 L 108.1 91.6\" id=\"37,35\"></path><path d=\"M 91.6 261.8 L 91.6 184.4 L 107.2 184.4\" id=\"36,34\"></path><path d=\"M 91.6 261.8 L 91.6 339.1 L 118.5 339.1\" id=\"36,33\"></path><path d=\"M 107.2 184.4 L 107.2 138.6 L 129.2 138.6\" id=\"34,32\"></path><path d=\"M 107.2 184.4 L 107.2 230.2 L 123.2 230.2\" id=\"34,31\"></path><path d=\"M 118.5 339.1 L 118.5 294.6 L 134.3 294.6\" id=\"33,30\"></path><path d=\"M 118.5 339.1 L 118.5 383.7 L 130.9 383.7\" id=\"33,29\"></path><path d=\"M 129.2 138.6 L 129.2 155.9 L 144.9 155.9\" id=\"32,28\"></path><path d=\"M 123.2 230.2 L 123.2 210.4 L 146.6 210.4\" id=\"31,27\"></path><path d=\"M 123.2 230.2 L 123.2 250.0 L 134.6 250.0\" id=\"31,26\"></path><path d=\"M 134.3 294.6 L 134.3 309.4 L 151.0 309.4\" id=\"30,25\"></path><path d=\"M 130.9 383.7 L 130.9 354.0 L 147.2 354.0\" id=\"29,24\"></path><path d=\"M 130.9 383.7 L 130.9 413.4 L 142.1 413.4\" id=\"29,23\"></path><path d=\"M 144.9 155.9 L 144.9 170.8 L 158.3 170.8\" id=\"28,22\"></path><path d=\"M 147.2 354.0 L 147.2 368.8 L 162.6 368.8\" id=\"24,21\"></path><path d=\"M 142.1 413.4 L 142.1 428.2 L 152.8 428.2\" id=\"23,20\"></path><path d=\"M 91.6 76.7 L 91.6 61.9 L 153.0 61.9\" id=\"37,19\"></path><path d=\"M 108.1 91.6 L 108.1 81.7 L 161.9 81.7\" id=\"35,18\"></path><path d=\"M 108.1 91.6 L 108.1 101.5 L 189.6 101.5\" id=\"35,17\"></path><path d=\"M 129.2 138.6 L 129.2 121.3 L 227.6 121.3\" id=\"32,16\"></path><path d=\"M 144.9 155.9 L 144.9 141.1 L 223.9 141.1\" id=\"28,15\"></path><path d=\"M 158.3 170.8 L 158.3 160.9 L 253.9 160.9\" id=\"22,14\"></path><path d=\"M 158.3 170.8 L 158.3 180.7 L 255.9 180.7\" id=\"22,13\"></path><path d=\"M 146.6 210.4 L 146.6 200.5 L 247.9 200.5\" id=\"27,12\"></path><path d=\"M 146.6 210.4 L 146.6 220.3 L 253.3 220.3\" id=\"27,11\"></path><path d=\"M 134.6 250.0 L 134.6 240.1 L 195.0 240.1\" id=\"26,10\"></path><path d=\"M 134.6 250.0 L 134.6 259.9 L 217.8 259.9\" id=\"26,9\"></path><path d=\"M 134.3 294.6 L 134.3 279.7 L 204.7 279.7\" id=\"30,8\"></path><path d=\"M 151.0 309.4 L 151.0 299.5 L 231.1 299.5\" id=\"25,7\"></path><path d=\"M 151.0 309.4 L 151.0 319.3 L 249.9 319.3\" id=\"25,6\"></path><path d=\"M 147.2 354.0 L 147.2 339.1 L 213.4 339.1\" id=\"24,5\"></path><path d=\"M 162.6 368.8 L 162.6 358.9 L 247.4 358.9\" id=\"21,4\"></path><path d=\"M 162.6 368.8 L 162.6 378.7 L 275.0 378.7\" id=\"21,3\"></path><path d=\"M 142.1 413.4 L 142.1 398.5 L 174.4 398.5\" id=\"23,2\"></path><path d=\"M 152.8 428.2 L 152.8 418.3 L 196.1 418.3\" id=\"20,1\"></path><path d=\"M 152.8 428.2 L 152.8 438.1 L 246.0 438.1\" id=\"20,0\"></path></g><g class=\"toytree-NodeLabels\" style=\"fill:rgb(0%,0%,0%);fill-opacity:1.0;font-size:8;stroke:none;text-shadow:0.5px 0.5px #fff, -0.5px 0.5px #fff, 0.5px -0.5px #fff, -0.5px -0.5px #fff\"><g transform=\"translate(154.82,430.29)\"><text>100.0</text></g><g transform=\"translate(166.82,370.87)\"><text>99.9</text></g><g transform=\"translate(162.48,172.82)\"><text>23.0</text></g><g transform=\"translate(144.06,415.43)\"><text>100.0</text></g><g transform=\"translate(149.20,356.02)\"><text>100.0</text></g><g transform=\"translate(152.96,311.46)\"><text>100.0</text></g><g transform=\"translate(138.83,252.04)\"><text>98.4</text></g><g transform=\"translate(148.58,212.43)\"><text>100.0</text></g><g transform=\"translate(146.92,157.97)\"><text>100.0</text></g><g transform=\"translate(135.13,385.73)\"><text>80.7</text></g><g transform=\"translate(136.29,296.61)\"><text>100.0</text></g><g transform=\"translate(125.23,232.24)\"><text>100.0</text></g><g transform=\"translate(131.19,140.64)\"><text>100.0</text></g><g transform=\"translate(120.54,341.17)\"><text>100.0</text></g><g transform=\"translate(109.14,186.44)\"><text>100.0</text></g><g transform=\"translate(110.12,93.60)\"><text>100.0</text></g><g transform=\"translate(93.54,263.80)\"><text>100.0</text></g><g transform=\"translate(93.54,78.75)\"><text>100.0</text></g></g><g class=\"toytree-TipLabels\" style=\"fill:rgb(14.9%,14.9%,14.9%);fill-opacity:1.0;font-family:helvetica;font-size:11px;font-weight:normal;stroke:none;white-space:pre\"><g transform=\"translate(246.03,438.15)rotate(0)\"><text x=\"15.00\" y=\"2.81\" style=\"\">V._jucundum_MKM_15_Huitepec</text></g><g transform=\"translate(196.06,418.34)rotate(0)\"><text x=\"15.00\" y=\"2.81\" style=\"\">V._jucundum_MKM_12_Huitepec</text></g><g transform=\"translate(174.42,398.54)rotate(0)\"><text x=\"15.00\" y=\"2.81\" style=\"\">V._jucundum_MKM_20_Huitepec</text></g><g transform=\"translate(274.96,378.73)rotate(0)\"><text x=\"15.00\" y=\"2.81\" style=\"\">V._jucundum_MKM_14_Huitepec</text></g><g transform=\"translate(247.40,358.93)rotate(0)\"><text x=\"15.00\" y=\"2.81\" style=\"\">V._jucundum_MKM_13_Huitepec</text></g><g transform=\"translate(213.43,339.12)rotate(0)\"><text x=\"15.00\" y=\"2.81\" style=\"\">V._jucundum_MKM_11_Yalentay</text></g><g transform=\"translate(249.95,319.32)rotate(0)\"><text x=\"15.00\" y=\"2.81\" style=\"\">V._jucundum_MKM_17_Huitepec</text></g><g transform=\"translate(231.12,299.51)rotate(0)\"><text x=\"15.00\" y=\"2.81\" style=\"\">V._jucundum_MKM_16_Huitepec</text></g><g transform=\"translate(204.66,279.71)rotate(0)\"><text x=\"15.00\" y=\"2.81\" style=\"\">V._jucundum_MKM_18_Huitepec</text></g><g transform=\"translate(217.81,259.90)rotate(0)\"><text x=\"15.00\" y=\"2.81\" style=\"\">V._lautum_MKM_2_Teopisca</text></g><g transform=\"translate(194.99,240.10)rotate(0)\"><text x=\"15.00\" y=\"2.81\" style=\"\">V._lautum_MKM_1_Teopisca</text></g><g transform=\"translate(253.29,220.29)rotate(0)\"><text x=\"15.00\" y=\"2.81\" style=\"\">V._lautum_MKM_9_Teopisca</text></g><g transform=\"translate(247.88,200.49)rotate(0)\"><text x=\"15.00\" y=\"2.81\" style=\"\">V._lautum_MKM_3_Teopisca</text></g><g transform=\"translate(255.95,180.68)rotate(0)\"><text x=\"15.00\" y=\"2.81\" style=\"\">V._lautum_MKM_25_Moxviqil</text></g><g transform=\"translate(253.89,160.88)rotate(0)\"><text x=\"15.00\" y=\"2.81\" style=\"\">V._lautum_MKM_23_Moxviqil</text></g><g transform=\"translate(223.94,141.07)rotate(0)\"><text x=\"15.00\" y=\"2.81\" style=\"\">V._lautum_MKM_24_Moxviqil</text></g><g transform=\"translate(227.64,121.27)rotate(0)\"><text x=\"15.00\" y=\"2.81\" style=\"\">V._lautum_MKM_26_Moxviqil</text></g><g transform=\"translate(189.63,101.46)rotate(0)\"><text x=\"15.00\" y=\"2.81\" style=\"\">V._hartwegii_PWS_3193</text></g><g transform=\"translate(161.90,81.66)rotate(0)\"><text x=\"15.00\" y=\"2.81\" style=\"\">V._hartwegii_PWS_3186</text></g><g transform=\"translate(153.01,61.85)rotate(0)\"><text x=\"15.00\" y=\"2.81\" style=\"\">V._hartwegii_PWS_3190</text></g></g></g></g></g></svg><div class=\"toyplot-behavior\"><script>(function()\n",
       "{\n",
       "var modules={};\n",
       "})();</script></div></div>"
      ]
     },
     "metadata": {},
     "output_type": "display_data"
    }
   ],
   "source": [
    "#root tree in hartwegii\n",
    "tre = tre.root(wildcard=\"hart\")\n",
    "\n",
    "new_tip_labels = [new_names[tip] for tip in tre.get_tip_labels()]\n",
    "\n",
    "canvas, _, _ = tre.draw(width=500, height=500, \n",
    "                        node_labels=\"support\",\n",
    "                        node_labels_style= {\n",
    "                            \"-toyplot-anchor-shift\": \"12px\",\n",
    "                            \"baseline-shift\": \"0px\",\n",
    "                            \"text-shadow\": \"0.5px 0.5px #fff, -0.5px 0.5px #fff, 0.5px -0.5px #fff, -0.5px -0.5px #fff\",\n",
    "                            \"fill\": \"#000\",\n",
    "                            \"font-size\": 8,\n",
    "                        },\n",
    "                        tip_labels=new_tip_labels,\n",
    "                        # node_sizes=5, node_colors=\"black\"\n",
    "                       )"
   ]
  },
  {
   "cell_type": "code",
   "execution_count": 57,
   "metadata": {},
   "outputs": [],
   "source": [
    "!mkdir -p svgs"
   ]
  },
  {
   "cell_type": "code",
   "execution_count": 58,
   "metadata": {
    "tags": []
   },
   "outputs": [],
   "source": [
    "#export tree as svg\n",
    "import toyplot.pdf\n",
    "\n",
    "toyplot.svg.render(canvas, \"./svgs/1-admixture-denovo-IQtree.svg\")"
   ]
  },
  {
   "cell_type": "code",
   "execution_count": 59,
   "metadata": {},
   "outputs": [
    {
     "data": {
      "text/html": [
       "<div class=\"toyplot\" id=\"tf047ec6fde3f44f586299afcde2325c3\" style=\"text-align:center\"><svg class=\"toyplot-canvas-Canvas\" xmlns:toyplot=\"http://www.sandia.gov/toyplot\" xmlns:xlink=\"http://www.w3.org/1999/xlink\" xmlns=\"http://www.w3.org/2000/svg\" width=\"385.0px\" height=\"360.0px\" viewBox=\"0 0 385.0 360.0\" preserveAspectRatio=\"xMidYMid meet\" style=\"background-color:transparent;border-color:#292724;border-style:none;border-width:1.0;fill:rgb(16.1%,15.3%,14.1%);fill-opacity:1.0;font-family:Helvetica;font-size:12px;opacity:1.0;stroke:rgb(16.1%,15.3%,14.1%);stroke-opacity:1.0;stroke-width:1.0\" id=\"t85acc66109d5414685bba5b54c555197\"><g class=\"toyplot-coordinates-Cartesian\" id=\"t49a0f70b3ac8458a9ec2033d3dc66aec\"><clipPath id=\"tcfc5719b55e74e879ff9d2bd7648b068\"><rect x=\"30.0\" y=\"30.0\" width=\"325.0\" height=\"300.0\"></rect></clipPath><g clip-path=\"url(#tcfc5719b55e74e879ff9d2bd7648b068)\"><g class=\"toytree-mark-Toytree\" id=\"t8a12616ec3a54c538f02d3bfe75895bf\"><g class=\"toytree-Edges\" style=\"fill:none;stroke:rgb(14.9%,14.9%,14.9%);stroke-linecap:round;stroke-opacity:1;stroke-width:2\"><path d=\"M 51.0 129.1 L 51.0 70.8 L 75.4 70.8\" id=\"38,37\"></path><path d=\"M 51.0 129.1 L 51.0 187.4 L 75.4 187.4\" id=\"38,36\"></path><path d=\"M 75.4 70.8 L 75.4 80.2 L 85.4 80.2\" id=\"37,35\"></path><path d=\"M 75.4 187.4 L 75.4 138.7 L 84.8 138.7\" id=\"36,34\"></path><path d=\"M 75.4 187.4 L 75.4 236.1 L 91.7 236.1\" id=\"36,33\"></path><path d=\"M 84.8 138.7 L 84.8 109.8 L 98.2 109.8\" id=\"34,32\"></path><path d=\"M 84.8 138.7 L 84.8 167.5 L 94.6 167.5\" id=\"34,31\"></path><path d=\"M 91.7 236.1 L 91.7 208.1 L 101.3 208.1\" id=\"33,30\"></path><path d=\"M 91.7 236.1 L 91.7 264.2 L 99.2 264.2\" id=\"33,29\"></path><path d=\"M 98.2 109.8 L 98.2 120.7 L 107.7 120.7\" id=\"32,28\"></path><path d=\"M 94.6 167.5 L 94.6 155.0 L 108.7 155.0\" id=\"31,27\"></path><path d=\"M 94.6 167.5 L 94.6 180.0 L 101.5 180.0\" id=\"31,26\"></path><path d=\"M 101.3 208.1 L 101.3 217.4 L 111.4 217.4\" id=\"30,25\"></path><path d=\"M 99.2 264.2 L 99.2 245.5 L 109.1 245.5\" id=\"29,24\"></path><path d=\"M 99.2 264.2 L 99.2 282.9 L 106.0 282.9\" id=\"29,23\"></path><path d=\"M 107.7 120.7 L 107.7 130.1 L 115.8 130.1\" id=\"28,22\"></path><path d=\"M 109.1 245.5 L 109.1 254.9 L 118.4 254.9\" id=\"24,21\"></path><path d=\"M 106.0 282.9 L 106.0 292.3 L 112.5 292.3\" id=\"23,20\"></path><path d=\"M 75.4 70.8 L 75.4 61.5 L 112.6 61.5\" id=\"37,19\"></path><path d=\"M 85.4 80.2 L 85.4 74.0 L 118.0 74.0\" id=\"35,18\"></path><path d=\"M 85.4 80.2 L 85.4 86.4 L 134.7 86.4\" id=\"35,17\"></path><path d=\"M 98.2 109.8 L 98.2 98.9 L 157.7 98.9\" id=\"32,16\"></path><path d=\"M 107.7 120.7 L 107.7 111.4 L 155.5 111.4\" id=\"28,15\"></path><path d=\"M 115.8 130.1 L 115.8 123.9 L 173.6 123.9\" id=\"22,14\"></path><path d=\"M 115.8 130.1 L 115.8 136.3 L 174.9 136.3\" id=\"22,13\"></path><path d=\"M 108.7 155.0 L 108.7 148.8 L 170.0 148.8\" id=\"27,12\"></path><path d=\"M 108.7 155.0 L 108.7 161.3 L 173.3 161.3\" id=\"27,11\"></path><path d=\"M 101.5 180.0 L 101.5 173.8 L 138.0 173.8\" id=\"26,10\"></path><path d=\"M 101.5 180.0 L 101.5 186.2 L 151.8 186.2\" id=\"26,9\"></path><path d=\"M 101.3 208.1 L 101.3 198.7 L 143.8 198.7\" id=\"30,8\"></path><path d=\"M 111.4 217.4 L 111.4 211.2 L 159.9 211.2\" id=\"25,7\"></path><path d=\"M 111.4 217.4 L 111.4 223.7 L 171.2 223.7\" id=\"25,6\"></path><path d=\"M 109.1 245.5 L 109.1 236.1 L 149.1 236.1\" id=\"24,5\"></path><path d=\"M 118.4 254.9 L 118.4 248.6 L 169.7 248.6\" id=\"21,4\"></path><path d=\"M 118.4 254.9 L 118.4 261.1 L 186.4 261.1\" id=\"21,3\"></path><path d=\"M 106.0 282.9 L 106.0 273.6 L 125.5 273.6\" id=\"23,2\"></path><path d=\"M 112.5 292.3 L 112.5 286.0 L 138.6 286.0\" id=\"20,1\"></path><path d=\"M 112.5 292.3 L 112.5 298.5 L 168.9 298.5\" id=\"20,0\"></path></g><g class=\"toytree-TipLabels\" style=\"fill:rgb(14.9%,14.9%,14.9%);fill-opacity:1.0;font-family:helvetica;font-size:11px;font-weight:normal;stroke:none;white-space:pre\"><g transform=\"translate(168.87,298.51)rotate(0)\"><text x=\"15.00\" y=\"2.81\" style=\"\">V._jucundum_MKM_15_Huitepec</text></g><g transform=\"translate(138.64,286.04)rotate(0)\"><text x=\"15.00\" y=\"2.81\" style=\"\">V._jucundum_MKM_12_Huitepec</text></g><g transform=\"translate(125.55,273.56)rotate(0)\"><text x=\"15.00\" y=\"2.81\" style=\"\">V._jucundum_MKM_20_Huitepec</text></g><g transform=\"translate(186.37,261.09)rotate(0)\"><text x=\"15.00\" y=\"2.81\" style=\"\">V._jucundum_MKM_14_Huitepec</text></g><g transform=\"translate(169.70,248.61)rotate(0)\"><text x=\"15.00\" y=\"2.81\" style=\"\">V._jucundum_MKM_13_Huitepec</text></g><g transform=\"translate(149.14,236.14)rotate(0)\"><text x=\"15.00\" y=\"2.81\" style=\"\">V._jucundum_MKM_11_Yalentay</text></g><g transform=\"translate(171.24,223.66)rotate(0)\"><text x=\"15.00\" y=\"2.81\" style=\"\">V._jucundum_MKM_17_Huitepec</text></g><g transform=\"translate(159.85,211.19)rotate(0)\"><text x=\"15.00\" y=\"2.81\" style=\"\">V._jucundum_MKM_16_Huitepec</text></g><g transform=\"translate(143.84,198.71)rotate(0)\"><text x=\"15.00\" y=\"2.81\" style=\"\">V._jucundum_MKM_18_Huitepec</text></g><g transform=\"translate(151.80,186.24)rotate(0)\"><text x=\"15.00\" y=\"2.81\" style=\"\">V._lautum_MKM_2_Teopisca</text></g><g transform=\"translate(137.99,173.76)rotate(0)\"><text x=\"15.00\" y=\"2.81\" style=\"\">V._lautum_MKM_1_Teopisca</text></g><g transform=\"translate(173.26,161.29)rotate(0)\"><text x=\"15.00\" y=\"2.81\" style=\"\">V._lautum_MKM_9_Teopisca</text></g><g transform=\"translate(169.99,148.81)rotate(0)\"><text x=\"15.00\" y=\"2.81\" style=\"\">V._lautum_MKM_3_Teopisca</text></g><g transform=\"translate(174.87,136.34)rotate(0)\"><text x=\"15.00\" y=\"2.81\" style=\"\">V._lautum_MKM_25_Moxviqil</text></g><g transform=\"translate(173.63,123.86)rotate(0)\"><text x=\"15.00\" y=\"2.81\" style=\"\">V._lautum_MKM_23_Moxviqil</text></g><g transform=\"translate(155.50,111.39)rotate(0)\"><text x=\"15.00\" y=\"2.81\" style=\"\">V._lautum_MKM_24_Moxviqil</text></g><g transform=\"translate(157.74,98.91)rotate(0)\"><text x=\"15.00\" y=\"2.81\" style=\"\">V._lautum_MKM_26_Moxviqil</text></g><g transform=\"translate(134.75,86.44)rotate(0)\"><text x=\"15.00\" y=\"2.81\" style=\"\">V._hartwegii_PWS_3193</text></g><g transform=\"translate(117.97,73.96)rotate(0)\"><text x=\"15.00\" y=\"2.81\" style=\"\">V._hartwegii_PWS_3186</text></g><g transform=\"translate(112.59,61.49)rotate(0)\"><text x=\"15.00\" y=\"2.81\" style=\"\">V._hartwegii_PWS_3190</text></g></g></g></g></g></svg><div class=\"toyplot-behavior\"><script>(function()\n",
       "{\n",
       "var modules={};\n",
       "})();</script></div></div>"
      ]
     },
     "metadata": {},
     "output_type": "display_data"
    }
   ],
   "source": [
    "# update label not only for presentation, this creates a new tree with current names, and exports it.\n",
    "updateddict = {}\n",
    "for i in tre.get_tip_labels():\n",
    "    updateddict[i] = new_names[i]\n",
    "\n",
    "    \n",
    "tre_renamed = tre.set_node_values(\n",
    "    feature=\"name\",\n",
    "    values=updateddict,\n",
    ")\n",
    "\n",
    "tre_renamed.draw()\n",
    "\n",
    "tre_renamed.write(f\"{treeFile}_RENAMED\", tree_format=0)"
   ]
  },
  {
   "cell_type": "markdown",
   "metadata": {},
   "source": [
    "### RAXML"
   ]
  },
  {
   "cell_type": "markdown",
   "metadata": {},
   "source": [
    "#### Run"
   ]
  },
  {
   "cell_type": "code",
   "execution_count": 1,
   "metadata": {},
   "outputs": [
    {
     "data": {
      "text/plain": [
       "'0.9.84'"
      ]
     },
     "execution_count": 1,
     "metadata": {},
     "output_type": "execute_result"
    }
   ],
   "source": [
    "import ipyrad.analysis as ipa\n",
    "ipa.__version__"
   ]
  },
  {
   "cell_type": "code",
   "execution_count": 2,
   "metadata": {},
   "outputs": [],
   "source": [
    "NAME = '1-admixture-denovo-raxml'"
   ]
  },
  {
   "cell_type": "code",
   "execution_count": 5,
   "metadata": {},
   "outputs": [],
   "source": [
    "rax = ipa.raxml(\"./analysis-window_extracter/1-admixture-denovo.phy\", name=NAME, T=36, N=100, m=\"GTRCAT\")"
   ]
  },
  {
   "cell_type": "code",
   "execution_count": 6,
   "metadata": {},
   "outputs": [
    {
     "name": "stdout",
     "output_type": "stream",
     "text": [
      "/gpfs/ysm/project/edwards/cm2828/conda_envs/ipyrad_from_conda/bin/raxmlHPC-PTHREADS-AVX2 -f a -T 36 -m GTRCAT -n 1-admixture-denovo-raxml -w /gpfs/ysm/project/edwards/cm2828/morganTrees_admixtureProj/analysis-raxml -s /gpfs/ysm/project/edwards/cm2828/morganTrees_admixtureProj/analysis-window_extracter/1-admixture-denovo.phy -p 54321 -N 100 -x 12345\n"
     ]
    }
   ],
   "source": [
    "print(rax.command)"
   ]
  },
  {
   "cell_type": "code",
   "execution_count": 13,
   "metadata": {},
   "outputs": [
    {
     "name": "stdout",
     "output_type": "stream",
     "text": [
      "job 1-admixture-denovo-raxml finished successfully\n"
     ]
    }
   ],
   "source": [
    "rax.run(force=True)"
   ]
  },
  {
   "cell_type": "code",
   "execution_count": 14,
   "metadata": {},
   "outputs": [
    {
     "data": {
      "text/plain": [
       "bestTree                   /gpfs/ysm/project/edwards/cm2828/morganTrees_admixtureProj/analysis-raxml/RAxML_bestTree.1-admixture-denovo-raxml\n",
       "bipartitions               /gpfs/ysm/project/edwards/cm2828/morganTrees_admixtureProj/analysis-raxml/RAxML_bipartitions.1-admixture-denovo-raxml\n",
       "bipartitionsBranchLabels   /gpfs/ysm/project/edwards/cm2828/morganTrees_admixtureProj/analysis-raxml/RAxML_bipartitionsBranchLabels.1-admixture-denovo-raxml\n",
       "bootstrap                  /gpfs/ysm/project/edwards/cm2828/morganTrees_admixtureProj/analysis-raxml/RAxML_bootstrap.1-admixture-denovo-raxml\n",
       "info                       /gpfs/ysm/project/edwards/cm2828/morganTrees_admixtureProj/analysis-raxml/RAxML_info.1-admixture-denovo-raxml"
      ]
     },
     "execution_count": 14,
     "metadata": {},
     "output_type": "execute_result"
    }
   ],
   "source": [
    "rax.trees"
   ]
  },
  {
   "cell_type": "markdown",
   "metadata": {},
   "source": [
    "#### Print tree"
   ]
  },
  {
   "cell_type": "code",
   "execution_count": 60,
   "metadata": {},
   "outputs": [],
   "source": [
    "import toytree\n",
    "treeFile = f\"./analysis-raxml/RAxML_bipartitions.1-admixture-denovo-raxml\"\n",
    "tre = toytree.tree(treeFile)"
   ]
  },
  {
   "cell_type": "code",
   "execution_count": 61,
   "metadata": {},
   "outputs": [
    {
     "data": {
      "text/html": [
       "<div class=\"toyplot\" id=\"t72e5256141884d2b9fc523e4ec6b4f5a\" style=\"text-align:center\"><svg class=\"toyplot-canvas-Canvas\" xmlns:toyplot=\"http://www.sandia.gov/toyplot\" xmlns:xlink=\"http://www.w3.org/1999/xlink\" xmlns=\"http://www.w3.org/2000/svg\" width=\"500.0px\" height=\"500.0px\" viewBox=\"0 0 500.0 500.0\" preserveAspectRatio=\"xMidYMid meet\" style=\"background-color:transparent;border-color:#292724;border-style:none;border-width:1.0;fill:rgb(16.1%,15.3%,14.1%);fill-opacity:1.0;font-family:Helvetica;font-size:12px;opacity:1.0;stroke:rgb(16.1%,15.3%,14.1%);stroke-opacity:1.0;stroke-width:1.0\" id=\"tb5904e8bbbf0454898e4cd99616ad24a\"><g class=\"toyplot-coordinates-Cartesian\" id=\"t94af2835caef4a8c9be63e27d5e3400f\"><clipPath id=\"t52f0f76b8aee484f919ec0b6143a4404\"><rect x=\"30.0\" y=\"30.0\" width=\"440.0\" height=\"440.0\"></rect></clipPath><g clip-path=\"url(#t52f0f76b8aee484f919ec0b6143a4404)\"><g class=\"toytree-mark-Toytree\" id=\"tce177e4319c64585bd1b2aa1676d6ae3\"><g class=\"toytree-Edges\" style=\"fill:none;stroke:rgb(14.9%,14.9%,14.9%);stroke-linecap:round;stroke-opacity:1;stroke-width:2\"><path d=\"M 51.1 169.2 L 51.1 76.7 L 86.0 76.7\" id=\"38,37\"></path><path d=\"M 51.1 169.2 L 51.1 261.8 L 86.0 261.8\" id=\"38,36\"></path><path d=\"M 86.0 76.7 L 86.0 91.6 L 105.1 91.6\" id=\"37,35\"></path><path d=\"M 86.0 261.8 L 86.0 184.4 L 106.5 184.4\" id=\"36,34\"></path><path d=\"M 86.0 261.8 L 86.0 339.1 L 117.0 339.1\" id=\"36,33\"></path><path d=\"M 106.5 184.4 L 106.5 151.0 L 124.8 151.0\" id=\"34,32\"></path><path d=\"M 106.5 184.4 L 106.5 217.8 L 130.4 217.8\" id=\"34,31\"></path><path d=\"M 117.0 339.1 L 117.0 294.6 L 132.5 294.6\" id=\"33,30\"></path><path d=\"M 117.0 339.1 L 117.0 383.7 L 133.6 383.7\" id=\"33,29\"></path><path d=\"M 124.8 151.0 L 124.8 131.2 L 151.1 131.2\" id=\"32,28\"></path><path d=\"M 124.8 151.0 L 124.8 170.8 L 137.9 170.8\" id=\"32,27\"></path><path d=\"M 130.4 217.8 L 130.4 235.1 L 148.3 235.1\" id=\"31,26\"></path><path d=\"M 132.5 294.6 L 132.5 309.4 L 144.8 309.4\" id=\"30,25\"></path><path d=\"M 133.6 383.7 L 133.6 354.0 L 150.6 354.0\" id=\"29,24\"></path><path d=\"M 133.6 383.7 L 133.6 413.4 L 150.9 413.4\" id=\"29,23\"></path><path d=\"M 148.3 235.1 L 148.3 250.0 L 166.6 250.0\" id=\"26,22\"></path><path d=\"M 150.6 354.0 L 150.6 368.8 L 169.7 368.8\" id=\"24,21\"></path><path d=\"M 150.9 413.4 L 150.9 428.2 L 169.1 428.2\" id=\"23,20\"></path><path d=\"M 86.0 76.7 L 86.0 61.9 L 144.4 61.9\" id=\"37,19\"></path><path d=\"M 105.1 91.6 L 105.1 81.7 L 155.2 81.7\" id=\"35,18\"></path><path d=\"M 105.1 91.6 L 105.1 101.5 L 183.6 101.5\" id=\"35,17\"></path><path d=\"M 151.1 131.2 L 151.1 121.3 L 251.3 121.3\" id=\"28,16\"></path><path d=\"M 151.1 131.2 L 151.1 141.1 L 244.8 141.1\" id=\"28,15\"></path><path d=\"M 137.9 170.8 L 137.9 160.9 L 192.9 160.9\" id=\"27,14\"></path><path d=\"M 137.9 170.8 L 137.9 180.7 L 215.0 180.7\" id=\"27,13\"></path><path d=\"M 130.4 217.8 L 130.4 200.5 L 223.8 200.5\" id=\"31,12\"></path><path d=\"M 148.3 235.1 L 148.3 220.3 L 220.7 220.3\" id=\"26,11\"></path><path d=\"M 166.6 250.0 L 166.6 240.1 L 258.8 240.1\" id=\"22,10\"></path><path d=\"M 166.6 250.0 L 166.6 259.9 L 255.7 259.9\" id=\"22,9\"></path><path d=\"M 132.5 294.6 L 132.5 279.7 L 162.0 279.7\" id=\"30,8\"></path><path d=\"M 144.8 309.4 L 144.8 299.5 L 232.2 299.5\" id=\"25,7\"></path><path d=\"M 144.8 309.4 L 144.8 319.3 L 183.4 319.3\" id=\"25,6\"></path><path d=\"M 150.6 354.0 L 150.6 339.1 L 214.3 339.1\" id=\"24,5\"></path><path d=\"M 169.7 368.8 L 169.7 358.9 L 243.8 358.9\" id=\"21,4\"></path><path d=\"M 169.7 368.8 L 169.7 378.7 L 264.3 378.7\" id=\"21,3\"></path><path d=\"M 150.9 413.4 L 150.9 398.5 L 210.5 398.5\" id=\"23,2\"></path><path d=\"M 169.1 428.2 L 169.1 418.3 L 275.0 418.3\" id=\"20,1\"></path><path d=\"M 169.1 428.2 L 169.1 438.1 L 247.9 438.1\" id=\"20,0\"></path></g><g class=\"toytree-NodeLabels\" style=\"fill:rgb(0%,0%,0%);fill-opacity:1.0;font-size:8;stroke:none;text-shadow:0.5px 0.5px #fff, -0.5px 0.5px #fff, 0.5px -0.5px #fff, -0.5px -0.5px #fff\"><g transform=\"translate(176.60,430.29)\"><text>27</text></g><g transform=\"translate(177.26,370.87)\"><text>75</text></g><g transform=\"translate(174.12,252.04)\"><text>51</text></g><g transform=\"translate(158.40,415.43)\"><text>28</text></g><g transform=\"translate(160.40,356.02)\"><text>0</text></g><g transform=\"translate(154.53,311.46)\"><text>0</text></g><g transform=\"translate(153.60,237.19)\"><text>100</text></g><g transform=\"translate(145.45,172.82)\"><text>97</text></g><g transform=\"translate(156.43,133.21)\"><text>100</text></g><g transform=\"translate(143.35,385.73)\"><text>0</text></g><g transform=\"translate(142.28,296.61)\"><text>0</text></g><g transform=\"translate(135.73,219.86)\"><text>100</text></g><g transform=\"translate(130.08,153.02)\"><text>100</text></g><g transform=\"translate(122.34,341.17)\"><text>100</text></g><g transform=\"translate(111.85,186.44)\"><text>100</text></g><g transform=\"translate(110.38,93.60)\"><text>100</text></g><g transform=\"translate(91.34,263.80)\"><text>100</text></g><g transform=\"translate(91.34,78.75)\"><text>100</text></g></g><g class=\"toytree-TipLabels\" style=\"fill:rgb(14.9%,14.9%,14.9%);fill-opacity:1.0;font-family:helvetica;font-size:11px;font-weight:normal;stroke:none;white-space:pre\"><g transform=\"translate(247.88,438.15)rotate(0)\"><text x=\"15.00\" y=\"2.81\" style=\"\">V._jucundum_MKM_13_Huitepec</text></g><g transform=\"translate(274.96,418.34)rotate(0)\"><text x=\"15.00\" y=\"2.81\" style=\"\">V._jucundum_MKM_14_Huitepec</text></g><g transform=\"translate(210.51,398.54)rotate(0)\"><text x=\"15.00\" y=\"2.81\" style=\"\">V._jucundum_MKM_11_Yalentay</text></g><g transform=\"translate(264.29,378.73)rotate(0)\"><text x=\"15.00\" y=\"2.81\" style=\"\">V._jucundum_MKM_17_Huitepec</text></g><g transform=\"translate(243.82,358.93)rotate(0)\"><text x=\"15.00\" y=\"2.81\" style=\"\">V._jucundum_MKM_16_Huitepec</text></g><g transform=\"translate(214.31,339.12)rotate(0)\"><text x=\"15.00\" y=\"2.81\" style=\"\">V._jucundum_MKM_18_Huitepec</text></g><g transform=\"translate(183.43,319.32)rotate(0)\"><text x=\"15.00\" y=\"2.81\" style=\"\">V._jucundum_MKM_12_Huitepec</text></g><g transform=\"translate(232.22,299.51)rotate(0)\"><text x=\"15.00\" y=\"2.81\" style=\"\">V._jucundum_MKM_15_Huitepec</text></g><g transform=\"translate(161.99,279.71)rotate(0)\"><text x=\"15.00\" y=\"2.81\" style=\"\">V._jucundum_MKM_20_Huitepec</text></g><g transform=\"translate(255.74,259.90)rotate(0)\"><text x=\"15.00\" y=\"2.81\" style=\"\">V._lautum_MKM_23_Moxviqil</text></g><g transform=\"translate(258.79,240.10)rotate(0)\"><text x=\"15.00\" y=\"2.81\" style=\"\">V._lautum_MKM_25_Moxviqil</text></g><g transform=\"translate(220.71,220.29)rotate(0)\"><text x=\"15.00\" y=\"2.81\" style=\"\">V._lautum_MKM_24_Moxviqil</text></g><g transform=\"translate(223.77,200.49)rotate(0)\"><text x=\"15.00\" y=\"2.81\" style=\"\">V._lautum_MKM_26_Moxviqil</text></g><g transform=\"translate(215.01,180.68)rotate(0)\"><text x=\"15.00\" y=\"2.81\" style=\"\">V._lautum_MKM_2_Teopisca</text></g><g transform=\"translate(192.91,160.88)rotate(0)\"><text x=\"15.00\" y=\"2.81\" style=\"\">V._lautum_MKM_1_Teopisca</text></g><g transform=\"translate(244.82,141.07)rotate(0)\"><text x=\"15.00\" y=\"2.81\" style=\"\">V._lautum_MKM_3_Teopisca</text></g><g transform=\"translate(251.28,121.27)rotate(0)\"><text x=\"15.00\" y=\"2.81\" style=\"\">V._lautum_MKM_9_Teopisca</text></g><g transform=\"translate(183.58,101.46)rotate(0)\"><text x=\"15.00\" y=\"2.81\" style=\"\">V._hartwegii_PWS_3193</text></g><g transform=\"translate(155.16,81.66)rotate(0)\"><text x=\"15.00\" y=\"2.81\" style=\"\">V._hartwegii_PWS_3186</text></g><g transform=\"translate(144.41,61.85)rotate(0)\"><text x=\"15.00\" y=\"2.81\" style=\"\">V._hartwegii_PWS_3190</text></g></g></g></g></g></svg><div class=\"toyplot-behavior\"><script>(function()\n",
       "{\n",
       "var modules={};\n",
       "})();</script></div></div>"
      ]
     },
     "metadata": {},
     "output_type": "display_data"
    }
   ],
   "source": [
    "#root tree in hartwegii\n",
    "tre = tre.root(wildcard=\"hart\")\n",
    "\n",
    "new_tip_labels = [new_names[tip] for tip in tre.get_tip_labels()]\n",
    "\n",
    "canvas, _, _ = tre.draw(width=500, height=500, \n",
    "                        node_labels=\"support\",\n",
    "                        node_labels_style= {\n",
    "                            \"-toyplot-anchor-shift\": \"12px\",\n",
    "                            \"baseline-shift\": \"0px\",\n",
    "                            \"text-shadow\": \"0.5px 0.5px #fff, -0.5px 0.5px #fff, 0.5px -0.5px #fff, -0.5px -0.5px #fff\",\n",
    "                            \"fill\": \"#000\",\n",
    "                            \"font-size\": 8,\n",
    "                        },\n",
    "                        tip_labels=new_tip_labels,\n",
    "                        # node_sizes=5, node_colors=\"black\"\n",
    "                       )"
   ]
  },
  {
   "cell_type": "code",
   "execution_count": 62,
   "metadata": {
    "tags": []
   },
   "outputs": [],
   "source": [
    "#export tree as svg\n",
    "import toyplot.pdf\n",
    "\n",
    "toyplot.svg.render(canvas, \"./svgs/1-admixture-denovo-raxml.svg\")"
   ]
  },
  {
   "cell_type": "code",
   "execution_count": 63,
   "metadata": {},
   "outputs": [
    {
     "data": {
      "text/html": [
       "<div class=\"toyplot\" id=\"tb9b9f0bb0f964f27b88581e2b809d71c\" style=\"text-align:center\"><svg class=\"toyplot-canvas-Canvas\" xmlns:toyplot=\"http://www.sandia.gov/toyplot\" xmlns:xlink=\"http://www.w3.org/1999/xlink\" xmlns=\"http://www.w3.org/2000/svg\" width=\"385.0px\" height=\"360.0px\" viewBox=\"0 0 385.0 360.0\" preserveAspectRatio=\"xMidYMid meet\" style=\"background-color:transparent;border-color:#292724;border-style:none;border-width:1.0;fill:rgb(16.1%,15.3%,14.1%);fill-opacity:1.0;font-family:Helvetica;font-size:12px;opacity:1.0;stroke:rgb(16.1%,15.3%,14.1%);stroke-opacity:1.0;stroke-width:1.0\" id=\"t031a396c2a8b4162bb908cd4ef94cafd\"><g class=\"toyplot-coordinates-Cartesian\" id=\"t123fbf9bfcaf4dd290d1260c54b5c1e8\"><clipPath id=\"t26964424adc54af5a0dc829840b0e160\"><rect x=\"30.0\" y=\"30.0\" width=\"325.0\" height=\"300.0\"></rect></clipPath><g clip-path=\"url(#t26964424adc54af5a0dc829840b0e160)\"><g class=\"toytree-mark-Toytree\" id=\"t97fc7d5341eb470bb51d5c53a6f37d41\"><g class=\"toytree-Edges\" style=\"fill:none;stroke:rgb(14.9%,14.9%,14.9%);stroke-linecap:round;stroke-opacity:1;stroke-width:2\"><path d=\"M 51.0 129.1 L 51.0 70.8 L 72.1 70.8\" id=\"38,37\"></path><path d=\"M 51.0 129.1 L 51.0 187.4 L 72.1 187.4\" id=\"38,36\"></path><path d=\"M 72.1 70.8 L 72.1 80.2 L 83.6 80.2\" id=\"37,35\"></path><path d=\"M 72.1 187.4 L 72.1 138.7 L 84.5 138.7\" id=\"36,34\"></path><path d=\"M 72.1 187.4 L 72.1 236.1 L 90.8 236.1\" id=\"36,33\"></path><path d=\"M 84.5 138.7 L 84.5 117.6 L 95.5 117.6\" id=\"34,32\"></path><path d=\"M 84.5 138.7 L 84.5 159.7 L 98.9 159.7\" id=\"34,31\"></path><path d=\"M 90.8 236.1 L 90.8 208.1 L 100.2 208.1\" id=\"33,30\"></path><path d=\"M 90.8 236.1 L 90.8 264.2 L 100.8 264.2\" id=\"33,29\"></path><path d=\"M 95.5 117.6 L 95.5 105.1 L 111.4 105.1\" id=\"32,28\"></path><path d=\"M 95.5 117.6 L 95.5 130.1 L 103.4 130.1\" id=\"32,27\"></path><path d=\"M 98.9 159.7 L 98.9 170.6 L 109.7 170.6\" id=\"31,26\"></path><path d=\"M 100.2 208.1 L 100.2 217.4 L 107.6 217.4\" id=\"30,25\"></path><path d=\"M 100.8 264.2 L 100.8 245.5 L 111.1 245.5\" id=\"29,24\"></path><path d=\"M 100.8 264.2 L 100.8 282.9 L 111.3 282.9\" id=\"29,23\"></path><path d=\"M 109.7 170.6 L 109.7 180.0 L 120.8 180.0\" id=\"26,22\"></path><path d=\"M 111.1 245.5 L 111.1 254.9 L 122.7 254.9\" id=\"24,21\"></path><path d=\"M 111.3 282.9 L 111.3 292.3 L 122.3 292.3\" id=\"23,20\"></path><path d=\"M 72.1 70.8 L 72.1 61.5 L 107.4 61.5\" id=\"37,19\"></path><path d=\"M 83.6 80.2 L 83.6 74.0 L 113.9 74.0\" id=\"35,18\"></path><path d=\"M 83.6 80.2 L 83.6 86.4 L 131.1 86.4\" id=\"35,17\"></path><path d=\"M 111.4 105.1 L 111.4 98.9 L 172.0 98.9\" id=\"28,16\"></path><path d=\"M 111.4 105.1 L 111.4 111.4 L 168.1 111.4\" id=\"28,15\"></path><path d=\"M 103.4 130.1 L 103.4 123.9 L 136.7 123.9\" id=\"27,14\"></path><path d=\"M 103.4 130.1 L 103.4 136.3 L 150.1 136.3\" id=\"27,13\"></path><path d=\"M 98.9 159.7 L 98.9 148.8 L 155.4 148.8\" id=\"31,12\"></path><path d=\"M 109.7 170.6 L 109.7 161.3 L 153.6 161.3\" id=\"26,11\"></path><path d=\"M 120.8 180.0 L 120.8 173.8 L 176.6 173.8\" id=\"22,10\"></path><path d=\"M 120.8 180.0 L 120.8 186.2 L 174.7 186.2\" id=\"22,9\"></path><path d=\"M 100.2 208.1 L 100.2 198.7 L 118.0 198.7\" id=\"30,8\"></path><path d=\"M 107.6 217.4 L 107.6 211.2 L 160.5 211.2\" id=\"25,7\"></path><path d=\"M 107.6 217.4 L 107.6 223.7 L 131.0 223.7\" id=\"25,6\"></path><path d=\"M 111.1 245.5 L 111.1 236.1 L 149.7 236.1\" id=\"24,5\"></path><path d=\"M 122.7 254.9 L 122.7 248.6 L 167.5 248.6\" id=\"21,4\"></path><path d=\"M 122.7 254.9 L 122.7 261.1 L 179.9 261.1\" id=\"21,3\"></path><path d=\"M 111.3 282.9 L 111.3 273.6 L 147.4 273.6\" id=\"23,2\"></path><path d=\"M 122.3 292.3 L 122.3 286.0 L 186.4 286.0\" id=\"20,1\"></path><path d=\"M 122.3 292.3 L 122.3 298.5 L 170.0 298.5\" id=\"20,0\"></path></g><g class=\"toytree-TipLabels\" style=\"fill:rgb(14.9%,14.9%,14.9%);fill-opacity:1.0;font-family:helvetica;font-size:11px;font-weight:normal;stroke:none;white-space:pre\"><g transform=\"translate(169.99,298.51)rotate(0)\"><text x=\"15.00\" y=\"2.81\" style=\"\">V._jucundum_MKM_13_Huitepec</text></g><g transform=\"translate(186.37,286.04)rotate(0)\"><text x=\"15.00\" y=\"2.81\" style=\"\">V._jucundum_MKM_14_Huitepec</text></g><g transform=\"translate(147.38,273.56)rotate(0)\"><text x=\"15.00\" y=\"2.81\" style=\"\">V._jucundum_MKM_11_Yalentay</text></g><g transform=\"translate(179.92,261.09)rotate(0)\"><text x=\"15.00\" y=\"2.81\" style=\"\">V._jucundum_MKM_17_Huitepec</text></g><g transform=\"translate(167.53,248.61)rotate(0)\"><text x=\"15.00\" y=\"2.81\" style=\"\">V._jucundum_MKM_16_Huitepec</text></g><g transform=\"translate(149.68,236.14)rotate(0)\"><text x=\"15.00\" y=\"2.81\" style=\"\">V._jucundum_MKM_18_Huitepec</text></g><g transform=\"translate(131.00,223.66)rotate(0)\"><text x=\"15.00\" y=\"2.81\" style=\"\">V._jucundum_MKM_12_Huitepec</text></g><g transform=\"translate(160.51,211.19)rotate(0)\"><text x=\"15.00\" y=\"2.81\" style=\"\">V._jucundum_MKM_15_Huitepec</text></g><g transform=\"translate(118.03,198.71)rotate(0)\"><text x=\"15.00\" y=\"2.81\" style=\"\">V._jucundum_MKM_20_Huitepec</text></g><g transform=\"translate(174.74,186.24)rotate(0)\"><text x=\"15.00\" y=\"2.81\" style=\"\">V._lautum_MKM_23_Moxviqil</text></g><g transform=\"translate(176.59,173.76)rotate(0)\"><text x=\"15.00\" y=\"2.81\" style=\"\">V._lautum_MKM_25_Moxviqil</text></g><g transform=\"translate(153.55,161.29)rotate(0)\"><text x=\"15.00\" y=\"2.81\" style=\"\">V._lautum_MKM_24_Moxviqil</text></g><g transform=\"translate(155.40,148.81)rotate(0)\"><text x=\"15.00\" y=\"2.81\" style=\"\">V._lautum_MKM_26_Moxviqil</text></g><g transform=\"translate(150.10,136.34)rotate(0)\"><text x=\"15.00\" y=\"2.81\" style=\"\">V._lautum_MKM_2_Teopisca</text></g><g transform=\"translate(136.73,123.86)rotate(0)\"><text x=\"15.00\" y=\"2.81\" style=\"\">V._lautum_MKM_1_Teopisca</text></g><g transform=\"translate(168.14,111.39)rotate(0)\"><text x=\"15.00\" y=\"2.81\" style=\"\">V._lautum_MKM_3_Teopisca</text></g><g transform=\"translate(172.05,98.91)rotate(0)\"><text x=\"15.00\" y=\"2.81\" style=\"\">V._lautum_MKM_9_Teopisca</text></g><g transform=\"translate(131.09,86.44)rotate(0)\"><text x=\"15.00\" y=\"2.81\" style=\"\">V._hartwegii_PWS_3193</text></g><g transform=\"translate(113.89,73.96)rotate(0)\"><text x=\"15.00\" y=\"2.81\" style=\"\">V._hartwegii_PWS_3186</text></g><g transform=\"translate(107.39,61.49)rotate(0)\"><text x=\"15.00\" y=\"2.81\" style=\"\">V._hartwegii_PWS_3190</text></g></g></g></g></g></svg><div class=\"toyplot-behavior\"><script>(function()\n",
       "{\n",
       "var modules={};\n",
       "})();</script></div></div>"
      ]
     },
     "metadata": {},
     "output_type": "display_data"
    }
   ],
   "source": [
    "# update label not only for presentation, this creates a new tree with current names, and exports it.\n",
    "updateddict = {}\n",
    "for i in tre.get_tip_labels():\n",
    "    updateddict[i] = new_names[i]\n",
    "\n",
    "    \n",
    "tre_renamed = tre.set_node_values(\n",
    "    feature=\"name\",\n",
    "    values=updateddict,\n",
    ")\n",
    "\n",
    "tre_renamed.draw()\n",
    "\n",
    "tre_renamed.write(f\"{treeFile}_RENAMED\", tree_format=0)"
   ]
  }
 ],
 "metadata": {
  "kernelspec": {
   "display_name": "Python 3 (ipykernel)",
   "language": "python",
   "name": "python3"
  },
  "language_info": {
   "codemirror_mode": {
    "name": "ipython",
    "version": 3
   },
   "file_extension": ".py",
   "mimetype": "text/x-python",
   "name": "python",
   "nbconvert_exporter": "python",
   "pygments_lexer": "ipython3",
   "version": "3.10.5"
  }
 },
 "nbformat": 4,
 "nbformat_minor": 4
}
